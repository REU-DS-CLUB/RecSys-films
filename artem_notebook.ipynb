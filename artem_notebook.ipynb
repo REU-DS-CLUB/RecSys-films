{
  "nbformat": 4,
  "nbformat_minor": 0,
  "metadata": {
    "colab": {
      "name": "artem_notebook.ipynb",
      "provenance": [],
      "collapsed_sections": [],
      "authorship_tag": "ABX9TyMczRj89eKTfrJYmYhFVhwm",
      "include_colab_link": true
    },
    "kernelspec": {
      "name": "python3",
      "display_name": "Python 3"
    },
    "language_info": {
      "name": "python"
    }
  },
  "cells": [
    {
      "cell_type": "markdown",
      "metadata": {
        "id": "view-in-github",
        "colab_type": "text"
      },
      "source": [
        "<a href=\"https://colab.research.google.com/github/REU-DS-CLUB/RecSys-films/blob/master/artem_notebook.ipynb\" target=\"_parent\"><img src=\"https://colab.research.google.com/assets/colab-badge.svg\" alt=\"Open In Colab\"/></a>"
      ]
    },
    {
      "cell_type": "code",
      "source": [
        "#!pip install gdown"
      ],
      "metadata": {
        "id": "_cyhmthBOQYc"
      },
      "execution_count": 248,
      "outputs": []
    },
    {
      "cell_type": "code",
      "source": [
        "!pip install --upgrade --no-cache-dir gdown"
      ],
      "metadata": {
        "id": "fSPGnb65OYWU",
        "colab": {
          "base_uri": "https://localhost:8080/"
        },
        "outputId": "2301fbb3-1a4d-4e9c-de42-7b599b3fd548"
      },
      "execution_count": 249,
      "outputs": [
        {
          "output_type": "stream",
          "name": "stdout",
          "text": [
            "Requirement already satisfied: gdown in /usr/local/lib/python3.7/dist-packages (4.4.0)\n",
            "Requirement already satisfied: requests[socks] in /usr/local/lib/python3.7/dist-packages (from gdown) (2.23.0)\n",
            "Requirement already satisfied: filelock in /usr/local/lib/python3.7/dist-packages (from gdown) (3.6.0)\n",
            "Requirement already satisfied: beautifulsoup4 in /usr/local/lib/python3.7/dist-packages (from gdown) (4.6.3)\n",
            "Requirement already satisfied: tqdm in /usr/local/lib/python3.7/dist-packages (from gdown) (4.63.0)\n",
            "Requirement already satisfied: six in /usr/local/lib/python3.7/dist-packages (from gdown) (1.15.0)\n",
            "Requirement already satisfied: urllib3!=1.25.0,!=1.25.1,<1.26,>=1.21.1 in /usr/local/lib/python3.7/dist-packages (from requests[socks]->gdown) (1.24.3)\n",
            "Requirement already satisfied: chardet<4,>=3.0.2 in /usr/local/lib/python3.7/dist-packages (from requests[socks]->gdown) (3.0.4)\n",
            "Requirement already satisfied: certifi>=2017.4.17 in /usr/local/lib/python3.7/dist-packages (from requests[socks]->gdown) (2021.10.8)\n",
            "Requirement already satisfied: idna<3,>=2.5 in /usr/local/lib/python3.7/dist-packages (from requests[socks]->gdown) (2.10)\n",
            "Requirement already satisfied: PySocks!=1.5.7,>=1.5.6 in /usr/local/lib/python3.7/dist-packages (from requests[socks]->gdown) (1.7.1)\n"
          ]
        }
      ]
    },
    {
      "cell_type": "code",
      "source": [
        "import gdown\n",
        "import pandas as pd\n",
        "import numpy as np\n",
        "import random"
      ],
      "metadata": {
        "id": "v1rRku36OeBt"
      },
      "execution_count": 250,
      "outputs": []
    },
    {
      "cell_type": "code",
      "source": [
        "!gdown --id 1hrC11y_r0veFdZqkwH1MSUxSv_CwJtyC\n",
        "!gdown --id 1LggfAKKnsJ1iCOWQI7XdVsSRE-R0CLsJ\n",
        "!gdown --id 1WiW7K8F-E8afXoeqyMalkOlfYATRuS9V\n",
        "!gdown --id 1ILq5E5i4P6kneSziQwXP_bDCc2B7A7RE\n",
        "!gdown --id 1Co7iQWJhJdqNFTlChd-xT1b88VAzuX4f\n",
        "!gdown --id 1XO_bjqQc6Tq6jQdfas5hq0t2jTyjBaz1\n",
        "!gdown --id 14OAYTUIw9BoCCSTFIiYzgPq-1XyP0dhQ"
      ],
      "metadata": {
        "id": "YtkcA36vOgkh",
        "colab": {
          "base_uri": "https://localhost:8080/"
        },
        "outputId": "c06e76e3-5aa3-4e66-c1cd-768f73aadc26"
      },
      "execution_count": 251,
      "outputs": [
        {
          "output_type": "stream",
          "name": "stdout",
          "text": [
            "/usr/local/lib/python3.7/dist-packages/gdown/cli.py:131: FutureWarning: Option `--id` was deprecated in version 4.3.1 and will be removed in 5.0. You don't need to pass it anymore to use a file ID.\n",
            "  category=FutureWarning,\n",
            "Downloading...\n",
            "From: https://drive.google.com/uc?id=1hrC11y_r0veFdZqkwH1MSUxSv_CwJtyC\n",
            "To: /content/credits.csv\n",
            "100% 190M/190M [00:01<00:00, 189MB/s]\n",
            "/usr/local/lib/python3.7/dist-packages/gdown/cli.py:131: FutureWarning: Option `--id` was deprecated in version 4.3.1 and will be removed in 5.0. You don't need to pass it anymore to use a file ID.\n",
            "  category=FutureWarning,\n",
            "Downloading...\n",
            "From: https://drive.google.com/uc?id=1LggfAKKnsJ1iCOWQI7XdVsSRE-R0CLsJ\n",
            "To: /content/keywords.csv\n",
            "100% 6.23M/6.23M [00:00<00:00, 148MB/s]\n",
            "/usr/local/lib/python3.7/dist-packages/gdown/cli.py:131: FutureWarning: Option `--id` was deprecated in version 4.3.1 and will be removed in 5.0. You don't need to pass it anymore to use a file ID.\n",
            "  category=FutureWarning,\n",
            "Downloading...\n",
            "From: https://drive.google.com/uc?id=1WiW7K8F-E8afXoeqyMalkOlfYATRuS9V\n",
            "To: /content/links_small.csv\n",
            "100% 183k/183k [00:00<00:00, 58.6MB/s]\n",
            "/usr/local/lib/python3.7/dist-packages/gdown/cli.py:131: FutureWarning: Option `--id` was deprecated in version 4.3.1 and will be removed in 5.0. You don't need to pass it anymore to use a file ID.\n",
            "  category=FutureWarning,\n",
            "Downloading...\n",
            "From: https://drive.google.com/uc?id=1ILq5E5i4P6kneSziQwXP_bDCc2B7A7RE\n",
            "To: /content/links.csv\n",
            "100% 989k/989k [00:00<00:00, 31.7MB/s]\n",
            "/usr/local/lib/python3.7/dist-packages/gdown/cli.py:131: FutureWarning: Option `--id` was deprecated in version 4.3.1 and will be removed in 5.0. You don't need to pass it anymore to use a file ID.\n",
            "  category=FutureWarning,\n",
            "Downloading...\n",
            "From: https://drive.google.com/uc?id=1Co7iQWJhJdqNFTlChd-xT1b88VAzuX4f\n",
            "To: /content/movies_metadata.csv\n",
            "100% 34.4M/34.4M [00:00<00:00, 111MB/s] \n",
            "/usr/local/lib/python3.7/dist-packages/gdown/cli.py:131: FutureWarning: Option `--id` was deprecated in version 4.3.1 and will be removed in 5.0. You don't need to pass it anymore to use a file ID.\n",
            "  category=FutureWarning,\n",
            "Downloading...\n",
            "From: https://drive.google.com/uc?id=1XO_bjqQc6Tq6jQdfas5hq0t2jTyjBaz1\n",
            "To: /content/ratings_small.csv\n",
            "100% 2.44M/2.44M [00:00<00:00, 78.9MB/s]\n",
            "/usr/local/lib/python3.7/dist-packages/gdown/cli.py:131: FutureWarning: Option `--id` was deprecated in version 4.3.1 and will be removed in 5.0. You don't need to pass it anymore to use a file ID.\n",
            "  category=FutureWarning,\n",
            "Downloading...\n",
            "From: https://drive.google.com/uc?id=14OAYTUIw9BoCCSTFIiYzgPq-1XyP0dhQ\n",
            "To: /content/ratings.csv\n",
            "100% 710M/710M [00:05<00:00, 125MB/s]\n"
          ]
        }
      ]
    },
    {
      "cell_type": "markdown",
      "source": [
        "**movies_metadata.csv:** The main Movies Metadata file. Contains information on 45,000 movies featured in the Full MovieLens dataset. Features include posters, backdrops, budget, revenue, release dates, languages, production countries and companies.\n",
        "\n",
        "**keywords.csv:** Contains the movie plot keywords for our MovieLens movies. Available in the form of a stringified JSON Object.\n",
        "\n",
        "**credits.csv:** Consists of Cast and Crew Information for all our movies. Available in the form of a stringified JSON Object.\n",
        "\n",
        "**links.csv:** The file that contains the TMDB and IMDB IDs of all the movies featured in the Full MovieLens dataset.\n",
        "\n",
        "**links_small.csv:** Contains the TMDB and IMDB IDs of a small subset of 9,000 movies of the Full Dataset.\n",
        "\n",
        "**ratings.csv:** Ratings of the Full Dataset.\n",
        "\n",
        "**ratings_small.csv:** The subset of 100,000 ratings from 700 users on 9,000 movies."
      ],
      "metadata": {
        "id": "GR6L3dy0B8kd"
      }
    },
    {
      "cell_type": "code",
      "source": [
        "movies_metadata = pd.read_csv('movies_metadata.csv')"
      ],
      "metadata": {
        "colab": {
          "base_uri": "https://localhost:8080/"
        },
        "id": "F4KhaejVCvku",
        "outputId": "8457d280-d20b-4a21-e71b-7a0bf455e0e4"
      },
      "execution_count": 252,
      "outputs": [
        {
          "output_type": "stream",
          "name": "stderr",
          "text": [
            "/usr/local/lib/python3.7/dist-packages/IPython/core/interactiveshell.py:2882: DtypeWarning: Columns (10) have mixed types.Specify dtype option on import or set low_memory=False.\n",
            "  exec(code_obj, self.user_global_ns, self.user_ns)\n"
          ]
        }
      ]
    },
    {
      "cell_type": "code",
      "source": [
        "movies_metadata.head(1)"
      ],
      "metadata": {
        "colab": {
          "base_uri": "https://localhost:8080/",
          "height": 258
        },
        "id": "6KTWvCvvEc9b",
        "outputId": "e92eec8c-9531-4841-8148-550d87451b1b"
      },
      "execution_count": 253,
      "outputs": [
        {
          "output_type": "execute_result",
          "data": {
            "text/plain": [
              "   adult                              belongs_to_collection    budget  \\\n",
              "0  False  {'id': 10194, 'name': 'Toy Story Collection', ...  30000000   \n",
              "\n",
              "                                              genres  \\\n",
              "0  [{'id': 16, 'name': 'Animation'}, {'id': 35, '...   \n",
              "\n",
              "                               homepage   id    imdb_id original_language  \\\n",
              "0  http://toystory.disney.com/toy-story  862  tt0114709                en   \n",
              "\n",
              "  original_title                                           overview  ...  \\\n",
              "0      Toy Story  Led by Woody, Andy's toys live happily in his ...  ...   \n",
              "\n",
              "  release_date      revenue runtime                          spoken_languages  \\\n",
              "0   1995-10-30  373554033.0    81.0  [{'iso_639_1': 'en', 'name': 'English'}]   \n",
              "\n",
              "     status  tagline      title  video vote_average vote_count  \n",
              "0  Released      NaN  Toy Story  False          7.7     5415.0  \n",
              "\n",
              "[1 rows x 24 columns]"
            ],
            "text/html": [
              "\n",
              "  <div id=\"df-4738e15e-367c-45a6-8770-69950b909a58\">\n",
              "    <div class=\"colab-df-container\">\n",
              "      <div>\n",
              "<style scoped>\n",
              "    .dataframe tbody tr th:only-of-type {\n",
              "        vertical-align: middle;\n",
              "    }\n",
              "\n",
              "    .dataframe tbody tr th {\n",
              "        vertical-align: top;\n",
              "    }\n",
              "\n",
              "    .dataframe thead th {\n",
              "        text-align: right;\n",
              "    }\n",
              "</style>\n",
              "<table border=\"1\" class=\"dataframe\">\n",
              "  <thead>\n",
              "    <tr style=\"text-align: right;\">\n",
              "      <th></th>\n",
              "      <th>adult</th>\n",
              "      <th>belongs_to_collection</th>\n",
              "      <th>budget</th>\n",
              "      <th>genres</th>\n",
              "      <th>homepage</th>\n",
              "      <th>id</th>\n",
              "      <th>imdb_id</th>\n",
              "      <th>original_language</th>\n",
              "      <th>original_title</th>\n",
              "      <th>overview</th>\n",
              "      <th>...</th>\n",
              "      <th>release_date</th>\n",
              "      <th>revenue</th>\n",
              "      <th>runtime</th>\n",
              "      <th>spoken_languages</th>\n",
              "      <th>status</th>\n",
              "      <th>tagline</th>\n",
              "      <th>title</th>\n",
              "      <th>video</th>\n",
              "      <th>vote_average</th>\n",
              "      <th>vote_count</th>\n",
              "    </tr>\n",
              "  </thead>\n",
              "  <tbody>\n",
              "    <tr>\n",
              "      <th>0</th>\n",
              "      <td>False</td>\n",
              "      <td>{'id': 10194, 'name': 'Toy Story Collection', ...</td>\n",
              "      <td>30000000</td>\n",
              "      <td>[{'id': 16, 'name': 'Animation'}, {'id': 35, '...</td>\n",
              "      <td>http://toystory.disney.com/toy-story</td>\n",
              "      <td>862</td>\n",
              "      <td>tt0114709</td>\n",
              "      <td>en</td>\n",
              "      <td>Toy Story</td>\n",
              "      <td>Led by Woody, Andy's toys live happily in his ...</td>\n",
              "      <td>...</td>\n",
              "      <td>1995-10-30</td>\n",
              "      <td>373554033.0</td>\n",
              "      <td>81.0</td>\n",
              "      <td>[{'iso_639_1': 'en', 'name': 'English'}]</td>\n",
              "      <td>Released</td>\n",
              "      <td>NaN</td>\n",
              "      <td>Toy Story</td>\n",
              "      <td>False</td>\n",
              "      <td>7.7</td>\n",
              "      <td>5415.0</td>\n",
              "    </tr>\n",
              "  </tbody>\n",
              "</table>\n",
              "<p>1 rows × 24 columns</p>\n",
              "</div>\n",
              "      <button class=\"colab-df-convert\" onclick=\"convertToInteractive('df-4738e15e-367c-45a6-8770-69950b909a58')\"\n",
              "              title=\"Convert this dataframe to an interactive table.\"\n",
              "              style=\"display:none;\">\n",
              "        \n",
              "  <svg xmlns=\"http://www.w3.org/2000/svg\" height=\"24px\"viewBox=\"0 0 24 24\"\n",
              "       width=\"24px\">\n",
              "    <path d=\"M0 0h24v24H0V0z\" fill=\"none\"/>\n",
              "    <path d=\"M18.56 5.44l.94 2.06.94-2.06 2.06-.94-2.06-.94-.94-2.06-.94 2.06-2.06.94zm-11 1L8.5 8.5l.94-2.06 2.06-.94-2.06-.94L8.5 2.5l-.94 2.06-2.06.94zm10 10l.94 2.06.94-2.06 2.06-.94-2.06-.94-.94-2.06-.94 2.06-2.06.94z\"/><path d=\"M17.41 7.96l-1.37-1.37c-.4-.4-.92-.59-1.43-.59-.52 0-1.04.2-1.43.59L10.3 9.45l-7.72 7.72c-.78.78-.78 2.05 0 2.83L4 21.41c.39.39.9.59 1.41.59.51 0 1.02-.2 1.41-.59l7.78-7.78 2.81-2.81c.8-.78.8-2.07 0-2.86zM5.41 20L4 18.59l7.72-7.72 1.47 1.35L5.41 20z\"/>\n",
              "  </svg>\n",
              "      </button>\n",
              "      \n",
              "  <style>\n",
              "    .colab-df-container {\n",
              "      display:flex;\n",
              "      flex-wrap:wrap;\n",
              "      gap: 12px;\n",
              "    }\n",
              "\n",
              "    .colab-df-convert {\n",
              "      background-color: #E8F0FE;\n",
              "      border: none;\n",
              "      border-radius: 50%;\n",
              "      cursor: pointer;\n",
              "      display: none;\n",
              "      fill: #1967D2;\n",
              "      height: 32px;\n",
              "      padding: 0 0 0 0;\n",
              "      width: 32px;\n",
              "    }\n",
              "\n",
              "    .colab-df-convert:hover {\n",
              "      background-color: #E2EBFA;\n",
              "      box-shadow: 0px 1px 2px rgba(60, 64, 67, 0.3), 0px 1px 3px 1px rgba(60, 64, 67, 0.15);\n",
              "      fill: #174EA6;\n",
              "    }\n",
              "\n",
              "    [theme=dark] .colab-df-convert {\n",
              "      background-color: #3B4455;\n",
              "      fill: #D2E3FC;\n",
              "    }\n",
              "\n",
              "    [theme=dark] .colab-df-convert:hover {\n",
              "      background-color: #434B5C;\n",
              "      box-shadow: 0px 1px 3px 1px rgba(0, 0, 0, 0.15);\n",
              "      filter: drop-shadow(0px 1px 2px rgba(0, 0, 0, 0.3));\n",
              "      fill: #FFFFFF;\n",
              "    }\n",
              "  </style>\n",
              "\n",
              "      <script>\n",
              "        const buttonEl =\n",
              "          document.querySelector('#df-4738e15e-367c-45a6-8770-69950b909a58 button.colab-df-convert');\n",
              "        buttonEl.style.display =\n",
              "          google.colab.kernel.accessAllowed ? 'block' : 'none';\n",
              "\n",
              "        async function convertToInteractive(key) {\n",
              "          const element = document.querySelector('#df-4738e15e-367c-45a6-8770-69950b909a58');\n",
              "          const dataTable =\n",
              "            await google.colab.kernel.invokeFunction('convertToInteractive',\n",
              "                                                     [key], {});\n",
              "          if (!dataTable) return;\n",
              "\n",
              "          const docLinkHtml = 'Like what you see? Visit the ' +\n",
              "            '<a target=\"_blank\" href=https://colab.research.google.com/notebooks/data_table.ipynb>data table notebook</a>'\n",
              "            + ' to learn more about interactive tables.';\n",
              "          element.innerHTML = '';\n",
              "          dataTable['output_type'] = 'display_data';\n",
              "          await google.colab.output.renderOutput(dataTable, element);\n",
              "          const docLink = document.createElement('div');\n",
              "          docLink.innerHTML = docLinkHtml;\n",
              "          element.appendChild(docLink);\n",
              "        }\n",
              "      </script>\n",
              "    </div>\n",
              "  </div>\n",
              "  "
            ]
          },
          "metadata": {},
          "execution_count": 253
        }
      ]
    },
    {
      "cell_type": "markdown",
      "source": [
        "**1 Получим случайную матрицу эмбедингов для каждого фильма**"
      ],
      "metadata": {
        "id": "nAUaABmQOiHQ"
      }
    },
    {
      "cell_type": "code",
      "source": [
        "# из исходных данных беру айдишник и добавляю 30 случайных колонок\n",
        "matrix_emb = pd.concat([movies_metadata[['id']], \n",
        "                        pd.DataFrame(np.random.random((movies_metadata.shape[0], 30)))], \n",
        "                       axis=1)"
      ],
      "metadata": {
        "id": "LPcXc4SrNMX8"
      },
      "execution_count": 254,
      "outputs": []
    },
    {
      "cell_type": "markdown",
      "source": [
        "Удаляем очевидные ошибки в данных и меняем тип колонки id на int, чтобы мэтчился с другой таблицей"
      ],
      "metadata": {
        "id": "Yr6rBfQ-FwJs"
      }
    },
    {
      "cell_type": "code",
      "source": [
        "matrix_emb = matrix_emb.drop(matrix_emb[matrix_emb.id == '1997-08-20'].index)"
      ],
      "metadata": {
        "id": "IRi55e3ROHI9"
      },
      "execution_count": 255,
      "outputs": []
    },
    {
      "cell_type": "code",
      "source": [
        "matrix_emb = matrix_emb.drop(matrix_emb[matrix_emb.id == '2012-09-29'].index)"
      ],
      "metadata": {
        "id": "1WaLvxkGsPnM"
      },
      "execution_count": 256,
      "outputs": []
    },
    {
      "cell_type": "code",
      "source": [
        "matrix_emb = matrix_emb.drop(matrix_emb[matrix_emb.id == '2014-01-01'].index)"
      ],
      "metadata": {
        "id": "pxvsptk6sTKA"
      },
      "execution_count": 257,
      "outputs": []
    },
    {
      "cell_type": "code",
      "source": [
        "matrix_emb['id'] = matrix_emb['id'].astype(int)"
      ],
      "metadata": {
        "id": "ZmuUK8DesAyf"
      },
      "execution_count": 258,
      "outputs": []
    },
    {
      "cell_type": "markdown",
      "source": [
        "**2 Теперь напишем функцию train_test_split по юзеру по матрице рейтингов (юзер х фильмы = рейтинг)**\n",
        "\n",
        "**Подаем на вход функции юзера и получаем два списка фильмов: на тренировочном будем учить, а фильмы из тестового набора искать в предсказаниях**\n"
      ],
      "metadata": {
        "id": "77Ok-g2sOm0f"
      }
    },
    {
      "cell_type": "code",
      "source": [
        "ratings = pd.read_csv('ratings.csv')"
      ],
      "metadata": {
        "id": "P6z6d_5aOgn5"
      },
      "execution_count": 259,
      "outputs": []
    },
    {
      "cell_type": "code",
      "source": [
        "ratings.sample(5)"
      ],
      "metadata": {
        "colab": {
          "base_uri": "https://localhost:8080/",
          "height": 204
        },
        "id": "wdrm9LrPPir8",
        "outputId": "f99e4ec5-3e36-4f23-f6ee-66a83ed9c6a7"
      },
      "execution_count": 260,
      "outputs": [
        {
          "output_type": "execute_result",
          "data": {
            "text/plain": [
              "          userId  movieId  rating   timestamp\n",
              "14474569  150432      593     3.5  1222031102\n",
              "11037742  114167     3176     3.5  1118169470\n",
              "25836856  268793     2433     3.0   955649297\n",
              "20909498  217287     2841     4.0   955643368\n",
              "14989752  155918     1844     4.0   956855741"
            ],
            "text/html": [
              "\n",
              "  <div id=\"df-da9dd262-97da-4b33-b872-6c3a1491af8a\">\n",
              "    <div class=\"colab-df-container\">\n",
              "      <div>\n",
              "<style scoped>\n",
              "    .dataframe tbody tr th:only-of-type {\n",
              "        vertical-align: middle;\n",
              "    }\n",
              "\n",
              "    .dataframe tbody tr th {\n",
              "        vertical-align: top;\n",
              "    }\n",
              "\n",
              "    .dataframe thead th {\n",
              "        text-align: right;\n",
              "    }\n",
              "</style>\n",
              "<table border=\"1\" class=\"dataframe\">\n",
              "  <thead>\n",
              "    <tr style=\"text-align: right;\">\n",
              "      <th></th>\n",
              "      <th>userId</th>\n",
              "      <th>movieId</th>\n",
              "      <th>rating</th>\n",
              "      <th>timestamp</th>\n",
              "    </tr>\n",
              "  </thead>\n",
              "  <tbody>\n",
              "    <tr>\n",
              "      <th>14474569</th>\n",
              "      <td>150432</td>\n",
              "      <td>593</td>\n",
              "      <td>3.5</td>\n",
              "      <td>1222031102</td>\n",
              "    </tr>\n",
              "    <tr>\n",
              "      <th>11037742</th>\n",
              "      <td>114167</td>\n",
              "      <td>3176</td>\n",
              "      <td>3.5</td>\n",
              "      <td>1118169470</td>\n",
              "    </tr>\n",
              "    <tr>\n",
              "      <th>25836856</th>\n",
              "      <td>268793</td>\n",
              "      <td>2433</td>\n",
              "      <td>3.0</td>\n",
              "      <td>955649297</td>\n",
              "    </tr>\n",
              "    <tr>\n",
              "      <th>20909498</th>\n",
              "      <td>217287</td>\n",
              "      <td>2841</td>\n",
              "      <td>4.0</td>\n",
              "      <td>955643368</td>\n",
              "    </tr>\n",
              "    <tr>\n",
              "      <th>14989752</th>\n",
              "      <td>155918</td>\n",
              "      <td>1844</td>\n",
              "      <td>4.0</td>\n",
              "      <td>956855741</td>\n",
              "    </tr>\n",
              "  </tbody>\n",
              "</table>\n",
              "</div>\n",
              "      <button class=\"colab-df-convert\" onclick=\"convertToInteractive('df-da9dd262-97da-4b33-b872-6c3a1491af8a')\"\n",
              "              title=\"Convert this dataframe to an interactive table.\"\n",
              "              style=\"display:none;\">\n",
              "        \n",
              "  <svg xmlns=\"http://www.w3.org/2000/svg\" height=\"24px\"viewBox=\"0 0 24 24\"\n",
              "       width=\"24px\">\n",
              "    <path d=\"M0 0h24v24H0V0z\" fill=\"none\"/>\n",
              "    <path d=\"M18.56 5.44l.94 2.06.94-2.06 2.06-.94-2.06-.94-.94-2.06-.94 2.06-2.06.94zm-11 1L8.5 8.5l.94-2.06 2.06-.94-2.06-.94L8.5 2.5l-.94 2.06-2.06.94zm10 10l.94 2.06.94-2.06 2.06-.94-2.06-.94-.94-2.06-.94 2.06-2.06.94z\"/><path d=\"M17.41 7.96l-1.37-1.37c-.4-.4-.92-.59-1.43-.59-.52 0-1.04.2-1.43.59L10.3 9.45l-7.72 7.72c-.78.78-.78 2.05 0 2.83L4 21.41c.39.39.9.59 1.41.59.51 0 1.02-.2 1.41-.59l7.78-7.78 2.81-2.81c.8-.78.8-2.07 0-2.86zM5.41 20L4 18.59l7.72-7.72 1.47 1.35L5.41 20z\"/>\n",
              "  </svg>\n",
              "      </button>\n",
              "      \n",
              "  <style>\n",
              "    .colab-df-container {\n",
              "      display:flex;\n",
              "      flex-wrap:wrap;\n",
              "      gap: 12px;\n",
              "    }\n",
              "\n",
              "    .colab-df-convert {\n",
              "      background-color: #E8F0FE;\n",
              "      border: none;\n",
              "      border-radius: 50%;\n",
              "      cursor: pointer;\n",
              "      display: none;\n",
              "      fill: #1967D2;\n",
              "      height: 32px;\n",
              "      padding: 0 0 0 0;\n",
              "      width: 32px;\n",
              "    }\n",
              "\n",
              "    .colab-df-convert:hover {\n",
              "      background-color: #E2EBFA;\n",
              "      box-shadow: 0px 1px 2px rgba(60, 64, 67, 0.3), 0px 1px 3px 1px rgba(60, 64, 67, 0.15);\n",
              "      fill: #174EA6;\n",
              "    }\n",
              "\n",
              "    [theme=dark] .colab-df-convert {\n",
              "      background-color: #3B4455;\n",
              "      fill: #D2E3FC;\n",
              "    }\n",
              "\n",
              "    [theme=dark] .colab-df-convert:hover {\n",
              "      background-color: #434B5C;\n",
              "      box-shadow: 0px 1px 3px 1px rgba(0, 0, 0, 0.15);\n",
              "      filter: drop-shadow(0px 1px 2px rgba(0, 0, 0, 0.3));\n",
              "      fill: #FFFFFF;\n",
              "    }\n",
              "  </style>\n",
              "\n",
              "      <script>\n",
              "        const buttonEl =\n",
              "          document.querySelector('#df-da9dd262-97da-4b33-b872-6c3a1491af8a button.colab-df-convert');\n",
              "        buttonEl.style.display =\n",
              "          google.colab.kernel.accessAllowed ? 'block' : 'none';\n",
              "\n",
              "        async function convertToInteractive(key) {\n",
              "          const element = document.querySelector('#df-da9dd262-97da-4b33-b872-6c3a1491af8a');\n",
              "          const dataTable =\n",
              "            await google.colab.kernel.invokeFunction('convertToInteractive',\n",
              "                                                     [key], {});\n",
              "          if (!dataTable) return;\n",
              "\n",
              "          const docLinkHtml = 'Like what you see? Visit the ' +\n",
              "            '<a target=\"_blank\" href=https://colab.research.google.com/notebooks/data_table.ipynb>data table notebook</a>'\n",
              "            + ' to learn more about interactive tables.';\n",
              "          element.innerHTML = '';\n",
              "          dataTable['output_type'] = 'display_data';\n",
              "          await google.colab.output.renderOutput(dataTable, element);\n",
              "          const docLink = document.createElement('div');\n",
              "          docLink.innerHTML = docLinkHtml;\n",
              "          element.appendChild(docLink);\n",
              "        }\n",
              "      </script>\n",
              "    </div>\n",
              "  </div>\n",
              "  "
            ]
          },
          "metadata": {},
          "execution_count": 260
        }
      ]
    },
    {
      "cell_type": "code",
      "source": [
        "def train_test_split_films(dataframe, user, size=0.7):\n",
        "\n",
        "  '''\n",
        "     на вход подается название датафрейма с рейтингами, \n",
        "     айди нужного пользователя и пропорция разделения\n",
        "\n",
        "     эта функция выведет данные именно для одного пользователя\n",
        "     можно доработать для большего количества, добавив цикл по\n",
        "     передаваемому спику айдишников\n",
        "\n",
        "     на выхлде получаем словарь, где\n",
        "     ключ - id зрителя\n",
        "     список 1 - айдишники train фильмов\n",
        "     список 2 - оценки train фильмов\n",
        "     список 3 - айдишники test фильмов\n",
        "     список 4 - оценки test фильмов\n",
        "  '''\n",
        "\n",
        "  user_tt_data_dict = {}\n",
        "  user_tt_data_list = []\n",
        "\n",
        "  # выбираю данные по нужному юзеру и перемешиваю\n",
        "  temp_df = dataframe[dataframe['userId'] == user] \\\n",
        "            .sample(dataframe[dataframe['userId'] == user].shape[0]) \\\n",
        "            [['movieId', 'rating']]\n",
        "\n",
        "  # разбиваю их на трейн и тест в заданной пропроции\n",
        "  train = temp_df.iloc[0:int(temp_df.shape[0]*size)]\n",
        "  test = temp_df.iloc[int(temp_df.shape[0]*size):]\n",
        "  \n",
        "  # разделяю каждый набор на фильмы и рейтинги и записываю в общий список\n",
        "  user_tt_data_list.append(train['movieId'].tolist())\n",
        "  user_tt_data_list.append(train['rating'].tolist())\n",
        "  user_tt_data_list.append(test['movieId'].tolist())\n",
        "  user_tt_data_list.append(test['rating'].tolist())\n",
        "\n",
        "  # список со всеми векторами записываю в словарь под ключ - айди зрителя\n",
        "  user_tt_data_dict[user] = user_tt_data_list\n",
        "\n",
        "  return user_tt_data_dict"
      ],
      "metadata": {
        "id": "JVl0rK7iP8XX"
      },
      "execution_count": 261,
      "outputs": []
    },
    {
      "cell_type": "code",
      "source": [
        "splitted_data = train_test_split_films(ratings, 270896, 0.7)"
      ],
      "metadata": {
        "id": "CoGjIeaThqiJ"
      },
      "execution_count": 262,
      "outputs": []
    },
    {
      "cell_type": "markdown",
      "source": [
        "**3 Для каждого юзера по train-фильмам находим средний вектор эмбединг через mean**\n",
        "\n",
        "**Надо дополнительно домножить эмбединг-вектор на оценку фильма**"
      ],
      "metadata": {
        "id": "TURsCxc7jsSy"
      }
    },
    {
      "cell_type": "code",
      "source": [
        "def get_avg_weightened_vec(dict_name, user_id, movies_emb_df):\n",
        "\n",
        "  '''\n",
        "     на вход подается название словаря с данными после сплита,\n",
        "     айдишник нужного зрителя и название эмбединг-датасета с фильмами\n",
        "\n",
        "     далее мы находим все эмбединг-вектора для train фильмов, домножаем\n",
        "     каждый на оценку от зрителя и находим средний вектор\n",
        "  '''\n",
        "\n",
        "  # находим все вектора фильмов из train-выборки в эмбединг-матрице\n",
        "  # и джойним с их рейтингами от выбранного пользователя\n",
        "  temp_df = movies_emb_df \\\n",
        "            .loc[movies_emb_df['id'].isin(dict_name[user_id][0])] \\\n",
        "            .merge(pd.DataFrame(dict_name[user_id][0], dict_name[user_id][1], \n",
        "                                columns=['id']) \\\n",
        "                                .reset_index() \\\n",
        "                                .rename(columns={'index':'rating'}), on='id')\n",
        "\n",
        "  # домножаем эмбединг-вектора на веса-оценки и вычисляем средний вектор\n",
        "  avg_weightened_vec = list(temp_df \\\n",
        "                            .drop(['id'], axis=1)\n",
        "                            .mul(temp_df['rating'], axis=0)\n",
        "                            .drop(['rating'], axis=1)\n",
        "                            .mean())\n",
        "\n",
        "  return avg_weightened_vec"
      ],
      "metadata": {
        "id": "SsQJnvxRkgLy"
      },
      "execution_count": 263,
      "outputs": []
    },
    {
      "cell_type": "code",
      "source": [
        "res_vec = get_avg_weightened_vec(splitted_data, 270896, matrix_emb)"
      ],
      "metadata": {
        "id": "snZHn9wS2SbB"
      },
      "execution_count": 264,
      "outputs": []
    },
    {
      "cell_type": "code",
      "source": [
        "res_vec"
      ],
      "metadata": {
        "colab": {
          "base_uri": "https://localhost:8080/"
        },
        "id": "Cs_yBMyj2dVP",
        "outputId": "e8b440e4-ecf0-40e5-ec05-e1da3740bce9"
      },
      "execution_count": 265,
      "outputs": [
        {
          "output_type": "execute_result",
          "data": {
            "text/plain": [
              "[2.003849913823004,\n",
              " 1.9453068279955958,\n",
              " 2.1828456227737956,\n",
              " 1.9213305200368027,\n",
              " 1.8850296946889844,\n",
              " 2.0780737041790824,\n",
              " 2.029628639235709,\n",
              " 1.9896511755302984,\n",
              " 2.0755977567380874,\n",
              " 1.9959027677709429,\n",
              " 2.065895728219533,\n",
              " 2.1618889206078675,\n",
              " 1.9737276079916972,\n",
              " 1.9675260749936572,\n",
              " 2.116293483409847,\n",
              " 2.1792608618659814,\n",
              " 1.8455905175323428,\n",
              " 1.8805682834070616,\n",
              " 1.9772073041765317,\n",
              " 1.8284024698335413,\n",
              " 1.8843946273287624,\n",
              " 1.7673322367249351,\n",
              " 2.1577701022883407,\n",
              " 1.9507894398127699,\n",
              " 2.097024893555933,\n",
              " 1.8982855980948585,\n",
              " 2.0792678833314633,\n",
              " 1.8087732305814843,\n",
              " 1.9272308019187079,\n",
              " 2.026644844189946]"
            ]
          },
          "metadata": {},
          "execution_count": 265
        }
      ]
    }
  ]
}