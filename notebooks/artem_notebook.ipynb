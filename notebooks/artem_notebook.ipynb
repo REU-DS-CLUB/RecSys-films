{
  "nbformat": 4,
  "nbformat_minor": 0,
  "metadata": {
    "colab": {
      "name": "artem_notebook.ipynb",
      "provenance": [],
      "collapsed_sections": []
    },
    "kernelspec": {
      "name": "python3",
      "display_name": "Python 3"
    },
    "language_info": {
      "name": "python"
    }
  },
  "cells": [
    {
      "cell_type": "code",
      "source": [
        "#!pip install gdown"
      ],
      "metadata": {
        "id": "_cyhmthBOQYc"
      },
      "execution_count": 1,
      "outputs": []
    },
    {
      "cell_type": "code",
      "source": [
        "!pip install --upgrade --no-cache-dir gdown"
      ],
      "metadata": {
        "id": "fSPGnb65OYWU",
        "colab": {
          "base_uri": "https://localhost:8080/"
        },
        "outputId": "7d8a2be6-81dc-44d0-a84a-b514454dd6a7"
      },
      "execution_count": 2,
      "outputs": [
        {
          "output_type": "stream",
          "name": "stdout",
          "text": [
            "Requirement already satisfied: gdown in /usr/local/lib/python3.7/dist-packages (4.2.2)\n",
            "Collecting gdown\n",
            "  Downloading gdown-4.4.0.tar.gz (14 kB)\n",
            "  Installing build dependencies ... \u001b[?25l\u001b[?25hdone\n",
            "  Getting requirements to build wheel ... \u001b[?25l\u001b[?25hdone\n",
            "    Preparing wheel metadata ... \u001b[?25l\u001b[?25hdone\n",
            "Requirement already satisfied: beautifulsoup4 in /usr/local/lib/python3.7/dist-packages (from gdown) (4.6.3)\n",
            "Requirement already satisfied: requests[socks] in /usr/local/lib/python3.7/dist-packages (from gdown) (2.23.0)\n",
            "Requirement already satisfied: filelock in /usr/local/lib/python3.7/dist-packages (from gdown) (3.6.0)\n",
            "Requirement already satisfied: six in /usr/local/lib/python3.7/dist-packages (from gdown) (1.15.0)\n",
            "Requirement already satisfied: tqdm in /usr/local/lib/python3.7/dist-packages (from gdown) (4.63.0)\n",
            "Requirement already satisfied: idna<3,>=2.5 in /usr/local/lib/python3.7/dist-packages (from requests[socks]->gdown) (2.10)\n",
            "Requirement already satisfied: urllib3!=1.25.0,!=1.25.1,<1.26,>=1.21.1 in /usr/local/lib/python3.7/dist-packages (from requests[socks]->gdown) (1.24.3)\n",
            "Requirement already satisfied: certifi>=2017.4.17 in /usr/local/lib/python3.7/dist-packages (from requests[socks]->gdown) (2021.10.8)\n",
            "Requirement already satisfied: chardet<4,>=3.0.2 in /usr/local/lib/python3.7/dist-packages (from requests[socks]->gdown) (3.0.4)\n",
            "Requirement already satisfied: PySocks!=1.5.7,>=1.5.6 in /usr/local/lib/python3.7/dist-packages (from requests[socks]->gdown) (1.7.1)\n",
            "Building wheels for collected packages: gdown\n",
            "  Building wheel for gdown (PEP 517) ... \u001b[?25l\u001b[?25hdone\n",
            "  Created wheel for gdown: filename=gdown-4.4.0-py3-none-any.whl size=14774 sha256=94ebb0a7325515ab845104372fcafdb2aee39fde623a9a3be91386e15366fa6a\n",
            "  Stored in directory: /tmp/pip-ephem-wheel-cache-xrnehqu6/wheels/fb/c3/0e/c4d8ff8bfcb0461afff199471449f642179b74968c15b7a69c\n",
            "Successfully built gdown\n",
            "Installing collected packages: gdown\n",
            "  Attempting uninstall: gdown\n",
            "    Found existing installation: gdown 4.2.2\n",
            "    Uninstalling gdown-4.2.2:\n",
            "      Successfully uninstalled gdown-4.2.2\n",
            "Successfully installed gdown-4.4.0\n"
          ]
        }
      ]
    },
    {
      "cell_type": "code",
      "source": [
        "import gdown\n",
        "import pandas as pd\n",
        "import numpy as np\n",
        "import random"
      ],
      "metadata": {
        "id": "v1rRku36OeBt"
      },
      "execution_count": 3,
      "outputs": []
    },
    {
      "cell_type": "code",
      "source": [
        "!gdown --id 1hrC11y_r0veFdZqkwH1MSUxSv_CwJtyC\n",
        "!gdown --id 1LggfAKKnsJ1iCOWQI7XdVsSRE-R0CLsJ\n",
        "!gdown --id 1WiW7K8F-E8afXoeqyMalkOlfYATRuS9V\n",
        "!gdown --id 1ILq5E5i4P6kneSziQwXP_bDCc2B7A7RE\n",
        "!gdown --id 1Co7iQWJhJdqNFTlChd-xT1b88VAzuX4f\n",
        "!gdown --id 1XO_bjqQc6Tq6jQdfas5hq0t2jTyjBaz1\n",
        "!gdown --id 14OAYTUIw9BoCCSTFIiYzgPq-1XyP0dhQ"
      ],
      "metadata": {
        "id": "YtkcA36vOgkh",
        "colab": {
          "base_uri": "https://localhost:8080/"
        },
        "outputId": "a886a14f-c970-47c9-ed0b-9ab1414777df"
      },
      "execution_count": 4,
      "outputs": [
        {
          "output_type": "stream",
          "name": "stdout",
          "text": [
            "/usr/local/lib/python3.7/dist-packages/gdown/cli.py:131: FutureWarning: Option `--id` was deprecated in version 4.3.1 and will be removed in 5.0. You don't need to pass it anymore to use a file ID.\n",
            "  category=FutureWarning,\n",
            "Downloading...\n",
            "From: https://drive.google.com/uc?id=1hrC11y_r0veFdZqkwH1MSUxSv_CwJtyC\n",
            "To: /content/credits.csv\n",
            "100% 190M/190M [00:02<00:00, 74.2MB/s]\n",
            "/usr/local/lib/python3.7/dist-packages/gdown/cli.py:131: FutureWarning: Option `--id` was deprecated in version 4.3.1 and will be removed in 5.0. You don't need to pass it anymore to use a file ID.\n",
            "  category=FutureWarning,\n",
            "Downloading...\n",
            "From: https://drive.google.com/uc?id=1LggfAKKnsJ1iCOWQI7XdVsSRE-R0CLsJ\n",
            "To: /content/keywords.csv\n",
            "100% 6.23M/6.23M [00:00<00:00, 60.3MB/s]\n",
            "/usr/local/lib/python3.7/dist-packages/gdown/cli.py:131: FutureWarning: Option `--id` was deprecated in version 4.3.1 and will be removed in 5.0. You don't need to pass it anymore to use a file ID.\n",
            "  category=FutureWarning,\n",
            "Downloading...\n",
            "From: https://drive.google.com/uc?id=1WiW7K8F-E8afXoeqyMalkOlfYATRuS9V\n",
            "To: /content/links_small.csv\n",
            "100% 183k/183k [00:00<00:00, 64.0MB/s]\n",
            "/usr/local/lib/python3.7/dist-packages/gdown/cli.py:131: FutureWarning: Option `--id` was deprecated in version 4.3.1 and will be removed in 5.0. You don't need to pass it anymore to use a file ID.\n",
            "  category=FutureWarning,\n",
            "Downloading...\n",
            "From: https://drive.google.com/uc?id=1ILq5E5i4P6kneSziQwXP_bDCc2B7A7RE\n",
            "To: /content/links.csv\n",
            "100% 989k/989k [00:00<00:00, 83.8MB/s]\n",
            "/usr/local/lib/python3.7/dist-packages/gdown/cli.py:131: FutureWarning: Option `--id` was deprecated in version 4.3.1 and will be removed in 5.0. You don't need to pass it anymore to use a file ID.\n",
            "  category=FutureWarning,\n",
            "Downloading...\n",
            "From: https://drive.google.com/uc?id=1Co7iQWJhJdqNFTlChd-xT1b88VAzuX4f\n",
            "To: /content/movies_metadata.csv\n",
            "100% 34.4M/34.4M [00:00<00:00, 78.2MB/s]\n",
            "/usr/local/lib/python3.7/dist-packages/gdown/cli.py:131: FutureWarning: Option `--id` was deprecated in version 4.3.1 and will be removed in 5.0. You don't need to pass it anymore to use a file ID.\n",
            "  category=FutureWarning,\n",
            "Downloading...\n",
            "From: https://drive.google.com/uc?id=1XO_bjqQc6Tq6jQdfas5hq0t2jTyjBaz1\n",
            "To: /content/ratings_small.csv\n",
            "100% 2.44M/2.44M [00:00<00:00, 43.9MB/s]\n",
            "/usr/local/lib/python3.7/dist-packages/gdown/cli.py:131: FutureWarning: Option `--id` was deprecated in version 4.3.1 and will be removed in 5.0. You don't need to pass it anymore to use a file ID.\n",
            "  category=FutureWarning,\n",
            "Downloading...\n",
            "From: https://drive.google.com/uc?id=14OAYTUIw9BoCCSTFIiYzgPq-1XyP0dhQ\n",
            "To: /content/ratings.csv\n",
            "100% 710M/710M [00:06<00:00, 108MB/s]\n"
          ]
        }
      ]
    },
    {
      "cell_type": "markdown",
      "source": [
        "**movies_metadata.csv:** The main Movies Metadata file. Contains information on 45,000 movies featured in the Full MovieLens dataset. Features include posters, backdrops, budget, revenue, release dates, languages, production countries and companies.\n",
        "\n",
        "**keywords.csv:** Contains the movie plot keywords for our MovieLens movies. Available in the form of a stringified JSON Object.\n",
        "\n",
        "**credits.csv:** Consists of Cast and Crew Information for all our movies. Available in the form of a stringified JSON Object.\n",
        "\n",
        "**links.csv:** The file that contains the TMDB and IMDB IDs of all the movies featured in the Full MovieLens dataset.\n",
        "\n",
        "**links_small.csv:** Contains the TMDB and IMDB IDs of a small subset of 9,000 movies of the Full Dataset.\n",
        "\n",
        "**ratings.csv:** Ratings of the Full Dataset.\n",
        "\n",
        "**ratings_small.csv:** The subset of 100,000 ratings from 700 users on 9,000 movies."
      ],
      "metadata": {
        "id": "GR6L3dy0B8kd"
      }
    },
    {
      "cell_type": "code",
      "source": [
        "movies_metadata = pd.read_csv('movies_metadata.csv')"
      ],
      "metadata": {
        "colab": {
          "base_uri": "https://localhost:8080/"
        },
        "id": "F4KhaejVCvku",
        "outputId": "a8e8f8a0-062d-4974-e6cf-1d65636e13f4"
      },
      "execution_count": 6,
      "outputs": [
        {
          "output_type": "stream",
          "name": "stderr",
          "text": [
            "/usr/local/lib/python3.7/dist-packages/IPython/core/interactiveshell.py:2882: DtypeWarning: Columns (10) have mixed types.Specify dtype option on import or set low_memory=False.\n",
            "  exec(code_obj, self.user_global_ns, self.user_ns)\n"
          ]
        }
      ]
    },
    {
      "cell_type": "code",
      "source": [
        "movies_metadata.head(1)"
      ],
      "metadata": {
        "colab": {
          "base_uri": "https://localhost:8080/",
          "height": 258
        },
        "id": "6KTWvCvvEc9b",
        "outputId": "e2a1c79c-3bdd-4e5b-80e1-db50b34ea2a1"
      },
      "execution_count": 20,
      "outputs": [
        {
          "output_type": "execute_result",
          "data": {
            "text/plain": [
              "   adult                              belongs_to_collection    budget  \\\n",
              "0  False  {'id': 10194, 'name': 'Toy Story Collection', ...  30000000   \n",
              "\n",
              "                                              genres  \\\n",
              "0  [{'id': 16, 'name': 'Animation'}, {'id': 35, '...   \n",
              "\n",
              "                               homepage   id    imdb_id original_language  \\\n",
              "0  http://toystory.disney.com/toy-story  862  tt0114709                en   \n",
              "\n",
              "  original_title                                           overview  ...  \\\n",
              "0      Toy Story  Led by Woody, Andy's toys live happily in his ...  ...   \n",
              "\n",
              "  release_date      revenue runtime                          spoken_languages  \\\n",
              "0   1995-10-30  373554033.0    81.0  [{'iso_639_1': 'en', 'name': 'English'}]   \n",
              "\n",
              "     status  tagline      title  video vote_average vote_count  \n",
              "0  Released      NaN  Toy Story  False          7.7     5415.0  \n",
              "\n",
              "[1 rows x 24 columns]"
            ],
            "text/html": [
              "\n",
              "  <div id=\"df-589411d5-d493-4ccb-8971-922997f78124\">\n",
              "    <div class=\"colab-df-container\">\n",
              "      <div>\n",
              "<style scoped>\n",
              "    .dataframe tbody tr th:only-of-type {\n",
              "        vertical-align: middle;\n",
              "    }\n",
              "\n",
              "    .dataframe tbody tr th {\n",
              "        vertical-align: top;\n",
              "    }\n",
              "\n",
              "    .dataframe thead th {\n",
              "        text-align: right;\n",
              "    }\n",
              "</style>\n",
              "<table border=\"1\" class=\"dataframe\">\n",
              "  <thead>\n",
              "    <tr style=\"text-align: right;\">\n",
              "      <th></th>\n",
              "      <th>adult</th>\n",
              "      <th>belongs_to_collection</th>\n",
              "      <th>budget</th>\n",
              "      <th>genres</th>\n",
              "      <th>homepage</th>\n",
              "      <th>id</th>\n",
              "      <th>imdb_id</th>\n",
              "      <th>original_language</th>\n",
              "      <th>original_title</th>\n",
              "      <th>overview</th>\n",
              "      <th>...</th>\n",
              "      <th>release_date</th>\n",
              "      <th>revenue</th>\n",
              "      <th>runtime</th>\n",
              "      <th>spoken_languages</th>\n",
              "      <th>status</th>\n",
              "      <th>tagline</th>\n",
              "      <th>title</th>\n",
              "      <th>video</th>\n",
              "      <th>vote_average</th>\n",
              "      <th>vote_count</th>\n",
              "    </tr>\n",
              "  </thead>\n",
              "  <tbody>\n",
              "    <tr>\n",
              "      <th>0</th>\n",
              "      <td>False</td>\n",
              "      <td>{'id': 10194, 'name': 'Toy Story Collection', ...</td>\n",
              "      <td>30000000</td>\n",
              "      <td>[{'id': 16, 'name': 'Animation'}, {'id': 35, '...</td>\n",
              "      <td>http://toystory.disney.com/toy-story</td>\n",
              "      <td>862</td>\n",
              "      <td>tt0114709</td>\n",
              "      <td>en</td>\n",
              "      <td>Toy Story</td>\n",
              "      <td>Led by Woody, Andy's toys live happily in his ...</td>\n",
              "      <td>...</td>\n",
              "      <td>1995-10-30</td>\n",
              "      <td>373554033.0</td>\n",
              "      <td>81.0</td>\n",
              "      <td>[{'iso_639_1': 'en', 'name': 'English'}]</td>\n",
              "      <td>Released</td>\n",
              "      <td>NaN</td>\n",
              "      <td>Toy Story</td>\n",
              "      <td>False</td>\n",
              "      <td>7.7</td>\n",
              "      <td>5415.0</td>\n",
              "    </tr>\n",
              "  </tbody>\n",
              "</table>\n",
              "<p>1 rows × 24 columns</p>\n",
              "</div>\n",
              "      <button class=\"colab-df-convert\" onclick=\"convertToInteractive('df-589411d5-d493-4ccb-8971-922997f78124')\"\n",
              "              title=\"Convert this dataframe to an interactive table.\"\n",
              "              style=\"display:none;\">\n",
              "        \n",
              "  <svg xmlns=\"http://www.w3.org/2000/svg\" height=\"24px\"viewBox=\"0 0 24 24\"\n",
              "       width=\"24px\">\n",
              "    <path d=\"M0 0h24v24H0V0z\" fill=\"none\"/>\n",
              "    <path d=\"M18.56 5.44l.94 2.06.94-2.06 2.06-.94-2.06-.94-.94-2.06-.94 2.06-2.06.94zm-11 1L8.5 8.5l.94-2.06 2.06-.94-2.06-.94L8.5 2.5l-.94 2.06-2.06.94zm10 10l.94 2.06.94-2.06 2.06-.94-2.06-.94-.94-2.06-.94 2.06-2.06.94z\"/><path d=\"M17.41 7.96l-1.37-1.37c-.4-.4-.92-.59-1.43-.59-.52 0-1.04.2-1.43.59L10.3 9.45l-7.72 7.72c-.78.78-.78 2.05 0 2.83L4 21.41c.39.39.9.59 1.41.59.51 0 1.02-.2 1.41-.59l7.78-7.78 2.81-2.81c.8-.78.8-2.07 0-2.86zM5.41 20L4 18.59l7.72-7.72 1.47 1.35L5.41 20z\"/>\n",
              "  </svg>\n",
              "      </button>\n",
              "      \n",
              "  <style>\n",
              "    .colab-df-container {\n",
              "      display:flex;\n",
              "      flex-wrap:wrap;\n",
              "      gap: 12px;\n",
              "    }\n",
              "\n",
              "    .colab-df-convert {\n",
              "      background-color: #E8F0FE;\n",
              "      border: none;\n",
              "      border-radius: 50%;\n",
              "      cursor: pointer;\n",
              "      display: none;\n",
              "      fill: #1967D2;\n",
              "      height: 32px;\n",
              "      padding: 0 0 0 0;\n",
              "      width: 32px;\n",
              "    }\n",
              "\n",
              "    .colab-df-convert:hover {\n",
              "      background-color: #E2EBFA;\n",
              "      box-shadow: 0px 1px 2px rgba(60, 64, 67, 0.3), 0px 1px 3px 1px rgba(60, 64, 67, 0.15);\n",
              "      fill: #174EA6;\n",
              "    }\n",
              "\n",
              "    [theme=dark] .colab-df-convert {\n",
              "      background-color: #3B4455;\n",
              "      fill: #D2E3FC;\n",
              "    }\n",
              "\n",
              "    [theme=dark] .colab-df-convert:hover {\n",
              "      background-color: #434B5C;\n",
              "      box-shadow: 0px 1px 3px 1px rgba(0, 0, 0, 0.15);\n",
              "      filter: drop-shadow(0px 1px 2px rgba(0, 0, 0, 0.3));\n",
              "      fill: #FFFFFF;\n",
              "    }\n",
              "  </style>\n",
              "\n",
              "      <script>\n",
              "        const buttonEl =\n",
              "          document.querySelector('#df-589411d5-d493-4ccb-8971-922997f78124 button.colab-df-convert');\n",
              "        buttonEl.style.display =\n",
              "          google.colab.kernel.accessAllowed ? 'block' : 'none';\n",
              "\n",
              "        async function convertToInteractive(key) {\n",
              "          const element = document.querySelector('#df-589411d5-d493-4ccb-8971-922997f78124');\n",
              "          const dataTable =\n",
              "            await google.colab.kernel.invokeFunction('convertToInteractive',\n",
              "                                                     [key], {});\n",
              "          if (!dataTable) return;\n",
              "\n",
              "          const docLinkHtml = 'Like what you see? Visit the ' +\n",
              "            '<a target=\"_blank\" href=https://colab.research.google.com/notebooks/data_table.ipynb>data table notebook</a>'\n",
              "            + ' to learn more about interactive tables.';\n",
              "          element.innerHTML = '';\n",
              "          dataTable['output_type'] = 'display_data';\n",
              "          await google.colab.output.renderOutput(dataTable, element);\n",
              "          const docLink = document.createElement('div');\n",
              "          docLink.innerHTML = docLinkHtml;\n",
              "          element.appendChild(docLink);\n",
              "        }\n",
              "      </script>\n",
              "    </div>\n",
              "  </div>\n",
              "  "
            ]
          },
          "metadata": {},
          "execution_count": 20
        }
      ]
    },
    {
      "cell_type": "markdown",
      "source": [
        "**1 Получим случайную матрицу эмбедингов для каждого фильма**"
      ],
      "metadata": {
        "id": "nAUaABmQOiHQ"
      }
    },
    {
      "cell_type": "code",
      "source": [
        "matrix_emb = pd.concat([movies_metadata[['id', 'original_title']], pd.DataFrame(np.random.random((movies_metadata.shape[0], 30)))], axis=1)"
      ],
      "metadata": {
        "id": "LPcXc4SrNMX8"
      },
      "execution_count": 17,
      "outputs": []
    },
    {
      "cell_type": "code",
      "source": [
        "matrix_emb = matrix_emb.drop(matrix_emb[matrix_emb.id == '1997-08-20'].index)"
      ],
      "metadata": {
        "id": "IRi55e3ROHI9"
      },
      "execution_count": 152,
      "outputs": []
    },
    {
      "cell_type": "code",
      "source": [
        "matrix_emb = matrix_emb.drop(matrix_emb[matrix_emb.id == '2012-09-29'].index)"
      ],
      "metadata": {
        "id": "1WaLvxkGsPnM"
      },
      "execution_count": 148,
      "outputs": []
    },
    {
      "cell_type": "code",
      "source": [
        "matrix_emb = matrix_emb.drop(matrix_emb[matrix_emb.id == '2014-01-01'].index)"
      ],
      "metadata": {
        "id": "pxvsptk6sTKA"
      },
      "execution_count": 150,
      "outputs": []
    },
    {
      "cell_type": "code",
      "source": [
        "matrix_emb['id'] = matrix_emb['id'].astype(int)"
      ],
      "metadata": {
        "id": "ZmuUK8DesAyf"
      },
      "execution_count": 156,
      "outputs": []
    },
    {
      "cell_type": "markdown",
      "source": [
        "**2 Теперь напишем функцию train_test_split по юзеру по матрице рейтингов (юзер х фильмы = рейтинг)**\n",
        "\n",
        "**Подаем на вход функции юзера и получаем два списка фильмов: на тренировочном будем учить, а фильмы из тестового набора искать в предсказаниях**\n"
      ],
      "metadata": {
        "id": "77Ok-g2sOm0f"
      }
    },
    {
      "cell_type": "code",
      "source": [
        "ratings = pd.read_csv('ratings.csv')"
      ],
      "metadata": {
        "id": "P6z6d_5aOgn5"
      },
      "execution_count": 21,
      "outputs": []
    },
    {
      "cell_type": "code",
      "source": [
        "ratings.sample(5)"
      ],
      "metadata": {
        "colab": {
          "base_uri": "https://localhost:8080/",
          "height": 204
        },
        "id": "wdrm9LrPPir8",
        "outputId": "4cc2ad8d-b6e6-4fb4-f73b-153bb78e1dfa"
      },
      "execution_count": 103,
      "outputs": [
        {
          "output_type": "execute_result",
          "data": {
            "text/plain": [
              "          userId  movieId  rating   timestamp\n",
              "17404087  180619   155288     4.0  1469364037\n",
              "24196202  251277      780     4.0   852832083\n",
              "15203261  158219     7150     0.5  1088659728\n",
              "11950944  123899   116897     4.0  1466140104\n",
              "15603349  162417     2396     5.0   985103167"
            ],
            "text/html": [
              "\n",
              "  <div id=\"df-f47033f6-4dc9-4241-8f85-79dafe4eb32e\">\n",
              "    <div class=\"colab-df-container\">\n",
              "      <div>\n",
              "<style scoped>\n",
              "    .dataframe tbody tr th:only-of-type {\n",
              "        vertical-align: middle;\n",
              "    }\n",
              "\n",
              "    .dataframe tbody tr th {\n",
              "        vertical-align: top;\n",
              "    }\n",
              "\n",
              "    .dataframe thead th {\n",
              "        text-align: right;\n",
              "    }\n",
              "</style>\n",
              "<table border=\"1\" class=\"dataframe\">\n",
              "  <thead>\n",
              "    <tr style=\"text-align: right;\">\n",
              "      <th></th>\n",
              "      <th>userId</th>\n",
              "      <th>movieId</th>\n",
              "      <th>rating</th>\n",
              "      <th>timestamp</th>\n",
              "    </tr>\n",
              "  </thead>\n",
              "  <tbody>\n",
              "    <tr>\n",
              "      <th>17404087</th>\n",
              "      <td>180619</td>\n",
              "      <td>155288</td>\n",
              "      <td>4.0</td>\n",
              "      <td>1469364037</td>\n",
              "    </tr>\n",
              "    <tr>\n",
              "      <th>24196202</th>\n",
              "      <td>251277</td>\n",
              "      <td>780</td>\n",
              "      <td>4.0</td>\n",
              "      <td>852832083</td>\n",
              "    </tr>\n",
              "    <tr>\n",
              "      <th>15203261</th>\n",
              "      <td>158219</td>\n",
              "      <td>7150</td>\n",
              "      <td>0.5</td>\n",
              "      <td>1088659728</td>\n",
              "    </tr>\n",
              "    <tr>\n",
              "      <th>11950944</th>\n",
              "      <td>123899</td>\n",
              "      <td>116897</td>\n",
              "      <td>4.0</td>\n",
              "      <td>1466140104</td>\n",
              "    </tr>\n",
              "    <tr>\n",
              "      <th>15603349</th>\n",
              "      <td>162417</td>\n",
              "      <td>2396</td>\n",
              "      <td>5.0</td>\n",
              "      <td>985103167</td>\n",
              "    </tr>\n",
              "  </tbody>\n",
              "</table>\n",
              "</div>\n",
              "      <button class=\"colab-df-convert\" onclick=\"convertToInteractive('df-f47033f6-4dc9-4241-8f85-79dafe4eb32e')\"\n",
              "              title=\"Convert this dataframe to an interactive table.\"\n",
              "              style=\"display:none;\">\n",
              "        \n",
              "  <svg xmlns=\"http://www.w3.org/2000/svg\" height=\"24px\"viewBox=\"0 0 24 24\"\n",
              "       width=\"24px\">\n",
              "    <path d=\"M0 0h24v24H0V0z\" fill=\"none\"/>\n",
              "    <path d=\"M18.56 5.44l.94 2.06.94-2.06 2.06-.94-2.06-.94-.94-2.06-.94 2.06-2.06.94zm-11 1L8.5 8.5l.94-2.06 2.06-.94-2.06-.94L8.5 2.5l-.94 2.06-2.06.94zm10 10l.94 2.06.94-2.06 2.06-.94-2.06-.94-.94-2.06-.94 2.06-2.06.94z\"/><path d=\"M17.41 7.96l-1.37-1.37c-.4-.4-.92-.59-1.43-.59-.52 0-1.04.2-1.43.59L10.3 9.45l-7.72 7.72c-.78.78-.78 2.05 0 2.83L4 21.41c.39.39.9.59 1.41.59.51 0 1.02-.2 1.41-.59l7.78-7.78 2.81-2.81c.8-.78.8-2.07 0-2.86zM5.41 20L4 18.59l7.72-7.72 1.47 1.35L5.41 20z\"/>\n",
              "  </svg>\n",
              "      </button>\n",
              "      \n",
              "  <style>\n",
              "    .colab-df-container {\n",
              "      display:flex;\n",
              "      flex-wrap:wrap;\n",
              "      gap: 12px;\n",
              "    }\n",
              "\n",
              "    .colab-df-convert {\n",
              "      background-color: #E8F0FE;\n",
              "      border: none;\n",
              "      border-radius: 50%;\n",
              "      cursor: pointer;\n",
              "      display: none;\n",
              "      fill: #1967D2;\n",
              "      height: 32px;\n",
              "      padding: 0 0 0 0;\n",
              "      width: 32px;\n",
              "    }\n",
              "\n",
              "    .colab-df-convert:hover {\n",
              "      background-color: #E2EBFA;\n",
              "      box-shadow: 0px 1px 2px rgba(60, 64, 67, 0.3), 0px 1px 3px 1px rgba(60, 64, 67, 0.15);\n",
              "      fill: #174EA6;\n",
              "    }\n",
              "\n",
              "    [theme=dark] .colab-df-convert {\n",
              "      background-color: #3B4455;\n",
              "      fill: #D2E3FC;\n",
              "    }\n",
              "\n",
              "    [theme=dark] .colab-df-convert:hover {\n",
              "      background-color: #434B5C;\n",
              "      box-shadow: 0px 1px 3px 1px rgba(0, 0, 0, 0.15);\n",
              "      filter: drop-shadow(0px 1px 2px rgba(0, 0, 0, 0.3));\n",
              "      fill: #FFFFFF;\n",
              "    }\n",
              "  </style>\n",
              "\n",
              "      <script>\n",
              "        const buttonEl =\n",
              "          document.querySelector('#df-f47033f6-4dc9-4241-8f85-79dafe4eb32e button.colab-df-convert');\n",
              "        buttonEl.style.display =\n",
              "          google.colab.kernel.accessAllowed ? 'block' : 'none';\n",
              "\n",
              "        async function convertToInteractive(key) {\n",
              "          const element = document.querySelector('#df-f47033f6-4dc9-4241-8f85-79dafe4eb32e');\n",
              "          const dataTable =\n",
              "            await google.colab.kernel.invokeFunction('convertToInteractive',\n",
              "                                                     [key], {});\n",
              "          if (!dataTable) return;\n",
              "\n",
              "          const docLinkHtml = 'Like what you see? Visit the ' +\n",
              "            '<a target=\"_blank\" href=https://colab.research.google.com/notebooks/data_table.ipynb>data table notebook</a>'\n",
              "            + ' to learn more about interactive tables.';\n",
              "          element.innerHTML = '';\n",
              "          dataTable['output_type'] = 'display_data';\n",
              "          await google.colab.output.renderOutput(dataTable, element);\n",
              "          const docLink = document.createElement('div');\n",
              "          docLink.innerHTML = docLinkHtml;\n",
              "          element.appendChild(docLink);\n",
              "        }\n",
              "      </script>\n",
              "    </div>\n",
              "  </div>\n",
              "  "
            ]
          },
          "metadata": {},
          "execution_count": 103
        }
      ]
    },
    {
      "cell_type": "code",
      "source": [
        "def train_test_split_films(dataframe, user):\n",
        "\n",
        "  '''\n",
        "     на вход подается название датафрейма с рейтингами\n",
        "     и айди нужного пользователя\n",
        "\n",
        "     эта функция выведет данные именно для одного пользователя\n",
        "     можно доработать для большего количества, добавив цикл по\n",
        "     передаваемому спику айдишников\n",
        "\n",
        "     на выхлде получаем словарь, где\n",
        "     ключ - id зрителя\n",
        "     список 1 - айдишники train фильмов\n",
        "     список 2 - оценки train фильмов\n",
        "     список 3 - айдишники test фильмов\n",
        "     список 4 - оценки test фильмов\n",
        "  '''\n",
        "\n",
        "  user_tt_data_dict = {}\n",
        "  user_tt_data_list = []\n",
        "\n",
        "  # выбираю данные по нужному юзеру и перемешиваю\n",
        "  temp_df = dataframe[dataframe['userId'] == user].sample(dataframe[dataframe['userId'] == user].shape[0])[['movieId', 'rating']]\n",
        "\n",
        "  # разбиваю их на трейн и тест 0.7 к 0.3\n",
        "  train = temp_df.iloc[0:int(temp_df.shape[0]*0.7)]\n",
        "  test = temp_df.iloc[int(temp_df.shape[0]*0.7):]\n",
        "  \n",
        "  # разделяю каждый набор на вектора фильмов и рейтингов и записываю в общий список\n",
        "  user_tt_data_list.append(train['movieId'].tolist())\n",
        "  user_tt_data_list.append(train['rating'].tolist())\n",
        "  user_tt_data_list.append(test['movieId'].tolist())\n",
        "  user_tt_data_list.append(test['rating'].tolist())\n",
        "\n",
        "  # список со всеми векторами записываю в словарь под ключ - айди зрителя\n",
        "  user_tt_data_dict[user] = user_tt_data_list\n",
        "\n",
        "  return user_tt_data_dict"
      ],
      "metadata": {
        "id": "JVl0rK7iP8XX"
      },
      "execution_count": 179,
      "outputs": []
    },
    {
      "cell_type": "code",
      "source": [
        "splitted_data = train_test_split_films(ratings, 270896)"
      ],
      "metadata": {
        "id": "CoGjIeaThqiJ"
      },
      "execution_count": 180,
      "outputs": []
    },
    {
      "cell_type": "markdown",
      "source": [
        "**3 Для каждого юзера по train-фильмам находим средний вектор эмбединг через mean**\n",
        "\n",
        "**Надо дополнительно домножить эмбединг-вектор на оценку фильма**"
      ],
      "metadata": {
        "id": "TURsCxc7jsSy"
      }
    },
    {
      "cell_type": "code",
      "source": [
        "def get_avg_weightened_vec(dict_name, user_id, movies_emb_df):\n",
        "\n",
        "  '''\n",
        "     на вход подается название словаря с данными после сплита,\n",
        "     айдишник нужного зрителя и название эмбединг-датасета с фильмами\n",
        "\n",
        "     далее мы находим все эмбединг-вектора для train фильмов, домножаем\n",
        "     каждый на оценку от зрителя и находим средний вектор\n",
        "  '''\n",
        "\n",
        "  # находим все вектора фильмов из train-выборки \n",
        "  temp_df = movies_emb_df.loc[movies_emb_df['id'].isin(dict_name[user_id][0])].merge(pd.DataFrame(dict_name[user_id][0], dict_name[user_id][1], columns=['id']).reset_index().rename(columns={'index':'rating'}), on='id')\n",
        "\n",
        "  # домножаем эмбединг-вектора на веса-оценки и вычисляем средний вектор\n",
        "  avg_weightened_vec = list(temp_df.drop(['id', 'original_title'], axis=1).mul(temp_df['rating'], axis=0).drop(['rating'], axis=1).mean())\n",
        "\n",
        "  return avg_weightened_vec\n"
      ],
      "metadata": {
        "id": "SsQJnvxRkgLy"
      },
      "execution_count": 242,
      "outputs": []
    },
    {
      "cell_type": "code",
      "source": [
        "res_vec = get_avg_weightened_vec(splitted_data, 270896, matrix_emb)"
      ],
      "metadata": {
        "id": "snZHn9wS2SbB"
      },
      "execution_count": 246,
      "outputs": []
    },
    {
      "cell_type": "code",
      "source": [
        "res_vec"
      ],
      "metadata": {
        "colab": {
          "base_uri": "https://localhost:8080/"
        },
        "id": "Cs_yBMyj2dVP",
        "outputId": "19d76274-5093-4175-b28e-dcc4c0b99edc"
      },
      "execution_count": 247,
      "outputs": [
        {
          "output_type": "execute_result",
          "data": {
            "text/plain": [
              "[2.0006146378647722,\n",
              " 2.0761992005766925,\n",
              " 1.8500482216045584,\n",
              " 1.702884255898778,\n",
              " 1.921912465293808,\n",
              " 2.1206757532985354,\n",
              " 2.023732511886943,\n",
              " 1.823972378592632,\n",
              " 1.8726064614886804,\n",
              " 2.092124690968725,\n",
              " 2.139106718711734,\n",
              " 2.115520425175656,\n",
              " 2.0175882308001296,\n",
              " 1.9268781131469397,\n",
              " 1.882923552463653,\n",
              " 2.2353942679225534,\n",
              " 1.8757815477039022,\n",
              " 2.059470693395709,\n",
              " 1.9969831470348656,\n",
              " 2.0924237435882134,\n",
              " 1.8619188147984458,\n",
              " 2.0517491780394157,\n",
              " 2.1491330816696865,\n",
              " 2.0667138058075256,\n",
              " 1.9848267543934988,\n",
              " 2.0776754112510982,\n",
              " 1.9622717273911596,\n",
              " 1.994578244630689,\n",
              " 2.037494704248514,\n",
              " 1.9202317702235305]"
            ]
          },
          "metadata": {},
          "execution_count": 247
        }
      ]
    },
    {
      "cell_type": "markdown",
      "source": [
        "**4 Находим топ-близких фильмов, которые пользователь еще не смотрел (косинусное расстояние между средним вектором пользователя и всеми фильмами)**"
      ],
      "metadata": {
        "id": "MEifqzQmkC00"
      }
    },
    {
      "cell_type": "code",
      "source": [
        ""
      ],
      "metadata": {
        "id": "3hhKjIiD4jxY"
      },
      "execution_count": null,
      "outputs": []
    }
  ]
}