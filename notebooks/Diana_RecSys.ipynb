{
 "cells": [
  {
   "cell_type": "markdown",
   "id": "e3918d9d",
   "metadata": {},
   "source": [
    "# Импорт библиотек и чтение файлов"
   ]
  },
  {
   "cell_type": "code",
   "execution_count": 1,
   "id": "8375c361",
   "metadata": {},
   "outputs": [
    {
     "name": "stderr",
     "output_type": "stream",
     "text": [
      "[nltk_data] Error loading english: Package 'english' not found in\n",
      "[nltk_data]     index\n"
     ]
    }
   ],
   "source": [
    "import pandas as pd\n",
    "import matplotlib.pyplot as plt \n",
    "%matplotlib inline \n",
    "import numpy as np\n",
    "import string\n",
    "from tqdm import tqdm_notebook as tqdm\n",
    "import re\n",
    "\n",
    "#NLTK\n",
    "import nltk\n",
    "from nltk.corpus import stopwords\n",
    "nltk.download(\"english\")\n",
    "from nltk.stem import WordNetLemmatizer\n",
    "from nltk.stem import SnowballStemmer\n",
    "\n",
    "from keras.preprocessing.text import Tokenizer\n",
    "from keras.preprocessing.sequence import pad_sequences\n",
    "\n",
    "from gensim.models import Word2Vec"
   ]
  },
  {
   "cell_type": "code",
   "execution_count": 2,
   "id": "4776f71c",
   "metadata": {},
   "outputs": [
    {
     "name": "stderr",
     "output_type": "stream",
     "text": [
      "C:\\Users\\isaev\\miniconda3\\lib\\site-packages\\IPython\\core\\interactiveshell.py:3444: DtypeWarning: Columns (10) have mixed types.Specify dtype option on import or set low_memory=False.\n",
      "  exec(code_obj, self.user_global_ns, self.user_ns)\n"
     ]
    },
    {
     "data": {
      "text/plain": [
       "(45466, 24)"
      ]
     },
     "execution_count": 2,
     "metadata": {},
     "output_type": "execute_result"
    }
   ],
   "source": [
    "df_movies = pd.read_csv(r'movies_metadata.csv')\n",
    "df_movies.shape"
   ]
  },
  {
   "cell_type": "markdown",
   "id": "3ce1097d",
   "metadata": {},
   "source": [
    "# Preprocessing"
   ]
  },
  {
   "cell_type": "markdown",
   "id": "2f13014e",
   "metadata": {},
   "source": [
    "*Проверим на наличие NaN*"
   ]
  },
  {
   "cell_type": "code",
   "execution_count": 3,
   "id": "b91ee2c3",
   "metadata": {},
   "outputs": [
    {
     "data": {
      "text/plain": [
       "adult                        0\n",
       "belongs_to_collection    40972\n",
       "budget                       0\n",
       "genres                       0\n",
       "homepage                 37684\n",
       "id                           0\n",
       "imdb_id                     17\n",
       "original_language           11\n",
       "original_title               0\n",
       "overview                   954\n",
       "popularity                   5\n",
       "poster_path                386\n",
       "production_companies         3\n",
       "production_countries         3\n",
       "release_date                87\n",
       "revenue                      6\n",
       "runtime                    263\n",
       "spoken_languages             6\n",
       "status                      87\n",
       "tagline                  25054\n",
       "title                        6\n",
       "video                        6\n",
       "vote_average                 6\n",
       "vote_count                   6\n",
       "dtype: int64"
      ]
     },
     "execution_count": 3,
     "metadata": {},
     "output_type": "execute_result"
    }
   ],
   "source": [
    "df_movies.isnull().sum()"
   ]
  },
  {
   "cell_type": "code",
   "execution_count": 4,
   "id": "a5df0f86",
   "metadata": {},
   "outputs": [
    {
     "data": {
      "text/html": [
       "<div>\n",
       "<style scoped>\n",
       "    .dataframe tbody tr th:only-of-type {\n",
       "        vertical-align: middle;\n",
       "    }\n",
       "\n",
       "    .dataframe tbody tr th {\n",
       "        vertical-align: top;\n",
       "    }\n",
       "\n",
       "    .dataframe thead th {\n",
       "        text-align: right;\n",
       "    }\n",
       "</style>\n",
       "<table border=\"1\" class=\"dataframe\">\n",
       "  <thead>\n",
       "    <tr style=\"text-align: right;\">\n",
       "      <th></th>\n",
       "      <th>adult</th>\n",
       "      <th>belongs_to_collection</th>\n",
       "      <th>budget</th>\n",
       "      <th>genres</th>\n",
       "      <th>homepage</th>\n",
       "      <th>id</th>\n",
       "      <th>imdb_id</th>\n",
       "      <th>original_language</th>\n",
       "      <th>original_title</th>\n",
       "      <th>overview</th>\n",
       "      <th>...</th>\n",
       "      <th>release_date</th>\n",
       "      <th>revenue</th>\n",
       "      <th>runtime</th>\n",
       "      <th>spoken_languages</th>\n",
       "      <th>status</th>\n",
       "      <th>tagline</th>\n",
       "      <th>title</th>\n",
       "      <th>video</th>\n",
       "      <th>vote_average</th>\n",
       "      <th>vote_count</th>\n",
       "    </tr>\n",
       "  </thead>\n",
       "  <tbody>\n",
       "    <tr>\n",
       "      <th>0</th>\n",
       "      <td>False</td>\n",
       "      <td>{'id': 10194, 'name': 'Toy Story Collection', ...</td>\n",
       "      <td>30000000</td>\n",
       "      <td>[{'id': 16, 'name': 'Animation'}, {'id': 35, '...</td>\n",
       "      <td>http://toystory.disney.com/toy-story</td>\n",
       "      <td>862</td>\n",
       "      <td>tt0114709</td>\n",
       "      <td>en</td>\n",
       "      <td>Toy Story</td>\n",
       "      <td>Led by Woody, Andy's toys live happily in his ...</td>\n",
       "      <td>...</td>\n",
       "      <td>1995-10-30</td>\n",
       "      <td>373554033.0</td>\n",
       "      <td>81.0</td>\n",
       "      <td>[{'iso_639_1': 'en', 'name': 'English'}]</td>\n",
       "      <td>Released</td>\n",
       "      <td>NaN</td>\n",
       "      <td>Toy Story</td>\n",
       "      <td>False</td>\n",
       "      <td>7.7</td>\n",
       "      <td>5415.0</td>\n",
       "    </tr>\n",
       "    <tr>\n",
       "      <th>1</th>\n",
       "      <td>False</td>\n",
       "      <td>NaN</td>\n",
       "      <td>65000000</td>\n",
       "      <td>[{'id': 12, 'name': 'Adventure'}, {'id': 14, '...</td>\n",
       "      <td>NaN</td>\n",
       "      <td>8844</td>\n",
       "      <td>tt0113497</td>\n",
       "      <td>en</td>\n",
       "      <td>Jumanji</td>\n",
       "      <td>When siblings Judy and Peter discover an encha...</td>\n",
       "      <td>...</td>\n",
       "      <td>1995-12-15</td>\n",
       "      <td>262797249.0</td>\n",
       "      <td>104.0</td>\n",
       "      <td>[{'iso_639_1': 'en', 'name': 'English'}, {'iso...</td>\n",
       "      <td>Released</td>\n",
       "      <td>Roll the dice and unleash the excitement!</td>\n",
       "      <td>Jumanji</td>\n",
       "      <td>False</td>\n",
       "      <td>6.9</td>\n",
       "      <td>2413.0</td>\n",
       "    </tr>\n",
       "  </tbody>\n",
       "</table>\n",
       "<p>2 rows × 24 columns</p>\n",
       "</div>"
      ],
      "text/plain": [
       "   adult                              belongs_to_collection    budget  \\\n",
       "0  False  {'id': 10194, 'name': 'Toy Story Collection', ...  30000000   \n",
       "1  False                                                NaN  65000000   \n",
       "\n",
       "                                              genres  \\\n",
       "0  [{'id': 16, 'name': 'Animation'}, {'id': 35, '...   \n",
       "1  [{'id': 12, 'name': 'Adventure'}, {'id': 14, '...   \n",
       "\n",
       "                               homepage    id    imdb_id original_language  \\\n",
       "0  http://toystory.disney.com/toy-story   862  tt0114709                en   \n",
       "1                                   NaN  8844  tt0113497                en   \n",
       "\n",
       "  original_title                                           overview  ...  \\\n",
       "0      Toy Story  Led by Woody, Andy's toys live happily in his ...  ...   \n",
       "1        Jumanji  When siblings Judy and Peter discover an encha...  ...   \n",
       "\n",
       "  release_date      revenue runtime  \\\n",
       "0   1995-10-30  373554033.0    81.0   \n",
       "1   1995-12-15  262797249.0   104.0   \n",
       "\n",
       "                                    spoken_languages    status  \\\n",
       "0           [{'iso_639_1': 'en', 'name': 'English'}]  Released   \n",
       "1  [{'iso_639_1': 'en', 'name': 'English'}, {'iso...  Released   \n",
       "\n",
       "                                     tagline      title  video vote_average  \\\n",
       "0                                        NaN  Toy Story  False          7.7   \n",
       "1  Roll the dice and unleash the excitement!    Jumanji  False          6.9   \n",
       "\n",
       "  vote_count  \n",
       "0     5415.0  \n",
       "1     2413.0  \n",
       "\n",
       "[2 rows x 24 columns]"
      ]
     },
     "execution_count": 4,
     "metadata": {},
     "output_type": "execute_result"
    }
   ],
   "source": [
    "df_movies.head(2)"
   ]
  },
  {
   "cell_type": "markdown",
   "id": "deaa57e2",
   "metadata": {},
   "source": [
    "*Удалим столбцы с большим количеством NaN и столбцы, которые нам не особо нужны, чтоб уменьшим размер датафрейма*"
   ]
  },
  {
   "cell_type": "code",
   "execution_count": 5,
   "id": "e64a25ce",
   "metadata": {},
   "outputs": [],
   "source": [
    "df_movies['original_title'] = df_movies['title']"
   ]
  },
  {
   "cell_type": "code",
   "execution_count": 7,
   "id": "a1e943e4",
   "metadata": {},
   "outputs": [
    {
     "name": "stderr",
     "output_type": "stream",
     "text": [
      "C:\\Users\\isaev\\AppData\\Local\\Temp/ipykernel_2096/868513532.py:1: FutureWarning: In a future version of pandas all arguments of DataFrame.drop except for the argument 'labels' will be keyword-only\n",
      "  df_movies.drop(df_movies.columns.difference(['original_title', 'overview', 'id']), 1, inplace=True)\n"
     ]
    }
   ],
   "source": [
    "df_movies.drop(df_movies.columns.difference(['original_title', 'overview', 'id']), 1, inplace=True)"
   ]
  },
  {
   "cell_type": "code",
   "execution_count": 8,
   "id": "017a196b",
   "metadata": {},
   "outputs": [],
   "source": [
    "id_film = df_movies['id'].nunique()"
   ]
  },
  {
   "cell_type": "code",
   "execution_count": 9,
   "id": "b1b76d77",
   "metadata": {},
   "outputs": [
    {
     "data": {
      "text/plain": [
       "id                0\n",
       "original_title    0\n",
       "overview          0\n",
       "dtype: int64"
      ]
     },
     "execution_count": 9,
     "metadata": {},
     "output_type": "execute_result"
    }
   ],
   "source": [
    "df_movies = df_movies.fillna(0)\n",
    "df_movies.isnull().sum()"
   ]
  },
  {
   "cell_type": "markdown",
   "id": "67d74cf2",
   "metadata": {},
   "source": [
    "*Функця препроцессинга*"
   ]
  },
  {
   "cell_type": "code",
   "execution_count": 10,
   "id": "cfa60354",
   "metadata": {},
   "outputs": [],
   "source": [
    "def preprocessing(data, lemmatizer = WordNetLemmatizer(), \n",
    "                  stop_words = stopwords.words('english')):\n",
    "    \n",
    "    \"\"\"\n",
    "    На вход: датафрейм с описанием и названием фильмов,\n",
    "    также пробрасываются стоп-слова и класс для лемматизации текстов\n",
    "    \n",
    "    На выходе: список с предобработанными текстовыми данными\n",
    "    \"\"\"\n",
    "    \n",
    "    texts = data.values.tolist()\n",
    "    new_text = []\n",
    "\n",
    "    for i in tqdm(range(len(texts))):\n",
    "        text = texts[i]\n",
    "        # Lowercase & Drop stopwords and punctuation\n",
    "        punct_free = re.sub('[^a-zA-Z]', ' ', str(text).lower())\n",
    "        punct_free = re.sub(r'\\s+', ' ', punct_free)\n",
    "        stop_free = \" \".join([i for i in punct_free.split() if i not in stop_words])\n",
    "        # stem_text = \" \".join([stemmer.stem(word) for word in stop_free.split(' ')])\n",
    "        \n",
    "        lemma_text = ' '.join([lemmatizer.lemmatize(word) for word in stop_free.split(' ')])\n",
    "        new_text.append(lemma_text)\n",
    "    return new_text"
   ]
  },
  {
   "cell_type": "code",
   "execution_count": 11,
   "id": "5c90e358",
   "metadata": {},
   "outputs": [
    {
     "name": "stderr",
     "output_type": "stream",
     "text": [
      "C:\\Users\\isaev\\AppData\\Local\\Temp/ipykernel_2096/3915145218.py:14: TqdmDeprecationWarning: This function will be removed in tqdm==5.0.0\n",
      "Please use `tqdm.notebook.tqdm` instead of `tqdm.tqdm_notebook`\n",
      "  for i in tqdm(range(len(texts))):\n"
     ]
    },
    {
     "data": {
      "application/vnd.jupyter.widget-view+json": {
       "model_id": "817a2273f7324f58a006c0ea5bc7351d",
       "version_major": 2,
       "version_minor": 0
      },
      "text/plain": [
       "  0%|          | 0/45466 [00:00<?, ?it/s]"
      ]
     },
     "metadata": {},
     "output_type": "display_data"
    },
    {
     "data": {
      "application/vnd.jupyter.widget-view+json": {
       "model_id": "4c19902a301c4822aad7fb1cf9f93b9e",
       "version_major": 2,
       "version_minor": 0
      },
      "text/plain": [
       "  0%|          | 0/45466 [00:00<?, ?it/s]"
      ]
     },
     "metadata": {},
     "output_type": "display_data"
    }
   ],
   "source": [
    "text_overview = preprocessing(df_movies[\"overview\"])\n",
    "text_title = preprocessing(df_movies[\"original_title\"])\n",
    "\n",
    "df_movies[\"overview\"] = text_overview\n",
    "df_movies[\"original_title\"] = text_title \n",
    "\n",
    "# Закидываем предобработанные описания и названия фильмов в общий список\n",
    "text_prepr = text_title + text_overview"
   ]
  },
  {
   "cell_type": "code",
   "execution_count": 33,
   "id": "45e09f6c",
   "metadata": {},
   "outputs": [],
   "source": [
    "text_prepr = [i.split() for i in text_overview]"
   ]
  },
  {
   "cell_type": "code",
   "execution_count": 34,
   "id": "1bb64e19",
   "metadata": {},
   "outputs": [
    {
     "data": {
      "text/plain": [
       "45466"
      ]
     },
     "execution_count": 34,
     "metadata": {},
     "output_type": "execute_result"
    }
   ],
   "source": [
    "len(text_prepr)"
   ]
  },
  {
   "cell_type": "markdown",
   "id": "d8c1e685",
   "metadata": {},
   "source": [
    "# Word2Vec"
   ]
  },
  {
   "cell_type": "code",
   "execution_count": 35,
   "id": "248ec551",
   "metadata": {},
   "outputs": [],
   "source": [
    "model = Word2Vec(text_prepr, \n",
    "                 window=10, \n",
    "                 min_count=2)"
   ]
  },
  {
   "cell_type": "code",
   "execution_count": 36,
   "id": "333adf61",
   "metadata": {},
   "outputs": [
    {
     "name": "stdout",
     "output_type": "stream",
     "text": [
      "Vocab size = 37888\n"
     ]
    }
   ],
   "source": [
    "# Построим словарь из последовательности предложений\n",
    "\n",
    "model.build_vocab(text_prepr)\n",
    "words = model.wv.index_to_key\n",
    "vocab_size = len(words)\n",
    "\n",
    "print(\"Vocab size =\", vocab_size)"
   ]
  },
  {
   "cell_type": "markdown",
   "id": "1c841839",
   "metadata": {},
   "source": [
    "*Обучим модель W2V для поиска наиболее похожих слов*"
   ]
  },
  {
   "cell_type": "code",
   "execution_count": 22,
   "id": "35ee9236",
   "metadata": {},
   "outputs": [
    {
     "data": {
      "text/plain": [
       "(7225363, 7531220)"
      ]
     },
     "execution_count": 22,
     "metadata": {},
     "output_type": "execute_result"
    }
   ],
   "source": [
    "model.train(text_prepr, total_examples=len(text_prepr), epochs=5)"
   ]
  },
  {
   "cell_type": "code",
   "execution_count": 23,
   "id": "792b7fc6",
   "metadata": {},
   "outputs": [
    {
     "data": {
      "text/plain": [
       "[('magically', 0.7416269779205322),\n",
       " ('hospitable', 0.7379919290542603),\n",
       " ('boatswain', 0.72590172290802),\n",
       " ('descendant', 0.7252901196479797),\n",
       " ('boar', 0.7210928201675415),\n",
       " ('devours', 0.7198227643966675),\n",
       " ('lineage', 0.7162126898765564),\n",
       " ('ananka', 0.7152280807495117),\n",
       " ('resting', 0.7143144607543945),\n",
       " ('braunger', 0.7142908573150635)]"
      ]
     },
     "execution_count": 23,
     "metadata": {},
     "output_type": "execute_result"
    }
   ],
   "source": [
    "model.wv.most_similar(\"snow\")"
   ]
  },
  {
   "cell_type": "code",
   "execution_count": 24,
   "id": "bba85b0a",
   "metadata": {},
   "outputs": [
    {
     "data": {
      "text/plain": [
       "[('energy', 0.7368856072425842),\n",
       " ('demon', 0.7276333570480347),\n",
       " ('evil', 0.7214480638504028),\n",
       " ('strength', 0.7113788723945618),\n",
       " ('healing', 0.6987121105194092),\n",
       " ('powerful', 0.696567952632904),\n",
       " ('contained', 0.692743718624115),\n",
       " ('technology', 0.690617024898529),\n",
       " ('superhuman', 0.6860851049423218),\n",
       " ('superman', 0.6849820613861084)]"
      ]
     },
     "execution_count": 24,
     "metadata": {},
     "output_type": "execute_result"
    }
   ],
   "source": [
    "model.wv.most_similar(\"power\")"
   ]
  },
  {
   "cell_type": "code",
   "execution_count": 25,
   "id": "0d91bc5e",
   "metadata": {},
   "outputs": [
    {
     "data": {
      "text/plain": [
       "[('man', 0.6290788650512695),\n",
       " ('couple', 0.6136555671691895),\n",
       " ('girl', 0.5953514575958252),\n",
       " ('prostitute', 0.5938584208488464),\n",
       " ('housewife', 0.5589686036109924),\n",
       " ('stranger', 0.5094226002693176),\n",
       " ('distressed', 0.5083330273628235),\n",
       " ('lonely', 0.5040274262428284),\n",
       " ('attractive', 0.4993456304073334),\n",
       " ('franzi', 0.49914056062698364)]"
      ]
     },
     "execution_count": 25,
     "metadata": {},
     "output_type": "execute_result"
    }
   ],
   "source": [
    "model.wv.most_similar(\"woman\")"
   ]
  },
  {
   "cell_type": "markdown",
   "id": "eb921dc6",
   "metadata": {},
   "source": [
    "## Tockenizer & embeding"
   ]
  },
  {
   "cell_type": "code",
   "execution_count": 37,
   "id": "f86bd7c8",
   "metadata": {},
   "outputs": [],
   "source": [
    "tokenizer = Tokenizer()"
   ]
  },
  {
   "cell_type": "code",
   "execution_count": 38,
   "id": "30cdcbaf",
   "metadata": {},
   "outputs": [
    {
     "name": "stdout",
     "output_type": "stream",
     "text": [
      "Total words: 67108\n"
     ]
    }
   ],
   "source": [
    "# Обновляем внутренний словарь на основе списка текстов.\n",
    "tokenizer.fit_on_texts(df_movies[\"overview\"])\n",
    "vocab_size = len(tokenizer.word_index) + 1\n",
    "\n",
    "print(\"Total words:\", vocab_size)"
   ]
  },
  {
   "cell_type": "markdown",
   "id": "d3e7aa6b",
   "metadata": {},
   "source": [
    "*Создание матрицы эмбедингов*"
   ]
  },
  {
   "cell_type": "markdown",
   "id": "0ff009ed",
   "metadata": {},
   "source": [
    "*Функция построения матрицы эмбедингов*"
   ]
  },
  {
   "cell_type": "code",
   "execution_count": 39,
   "id": "2b6cadac",
   "metadata": {},
   "outputs": [],
   "source": [
    "def embedding_matrix(tock, model):\n",
    "    \n",
    "    \"\"\"\n",
    "    На вход: словарь tokenizer.word_index \n",
    "    модель word2vec\n",
    "    \n",
    "    На выходе: матрица эмбедингов текста\n",
    "    \"\"\"\n",
    "    \n",
    "    embedding_matrix = np.zeros((id_film, 100))\n",
    "\n",
    "    for word, i in tock.items():\n",
    "        if word in model:\n",
    "            embedding_matrix[i] = model[word]\n",
    "    return embedding_matrix"
   ]
  },
  {
   "cell_type": "code",
   "execution_count": 40,
   "id": "055d983e",
   "metadata": {},
   "outputs": [],
   "source": [
    "embedding_matrix = embedding_matrix(tokenizer.word_index, model.wv)"
   ]
  },
  {
   "cell_type": "code",
   "execution_count": 58,
   "id": "bbadec84",
   "metadata": {},
   "outputs": [],
   "source": [
    "df_emb = pd.concat([df_movies[['id']],\n",
    "                    pd.DataFrame(embedding_matrix)], axis=1)"
   ]
  },
  {
   "cell_type": "code",
   "execution_count": 60,
   "id": "83eebfe5",
   "metadata": {},
   "outputs": [
    {
     "data": {
      "text/html": [
       "<div>\n",
       "<style scoped>\n",
       "    .dataframe tbody tr th:only-of-type {\n",
       "        vertical-align: middle;\n",
       "    }\n",
       "\n",
       "    .dataframe tbody tr th {\n",
       "        vertical-align: top;\n",
       "    }\n",
       "\n",
       "    .dataframe thead th {\n",
       "        text-align: right;\n",
       "    }\n",
       "</style>\n",
       "<table border=\"1\" class=\"dataframe\">\n",
       "  <thead>\n",
       "    <tr style=\"text-align: right;\">\n",
       "      <th></th>\n",
       "      <th>id</th>\n",
       "      <th>0</th>\n",
       "      <th>1</th>\n",
       "      <th>2</th>\n",
       "      <th>3</th>\n",
       "      <th>4</th>\n",
       "      <th>5</th>\n",
       "      <th>6</th>\n",
       "      <th>7</th>\n",
       "      <th>8</th>\n",
       "      <th>...</th>\n",
       "      <th>90</th>\n",
       "      <th>91</th>\n",
       "      <th>92</th>\n",
       "      <th>93</th>\n",
       "      <th>94</th>\n",
       "      <th>95</th>\n",
       "      <th>96</th>\n",
       "      <th>97</th>\n",
       "      <th>98</th>\n",
       "      <th>99</th>\n",
       "    </tr>\n",
       "  </thead>\n",
       "  <tbody>\n",
       "    <tr>\n",
       "      <th>0</th>\n",
       "      <td>862</td>\n",
       "      <td>0.000000</td>\n",
       "      <td>0.000000</td>\n",
       "      <td>0.000000</td>\n",
       "      <td>0.000000</td>\n",
       "      <td>0.000000</td>\n",
       "      <td>0.000000</td>\n",
       "      <td>0.000000</td>\n",
       "      <td>0.000000</td>\n",
       "      <td>0.000000</td>\n",
       "      <td>...</td>\n",
       "      <td>0.000000</td>\n",
       "      <td>0.000000</td>\n",
       "      <td>0.000000</td>\n",
       "      <td>0.000000</td>\n",
       "      <td>0.000000</td>\n",
       "      <td>0.000000</td>\n",
       "      <td>0.000000</td>\n",
       "      <td>0.000000</td>\n",
       "      <td>0.000000</td>\n",
       "      <td>0.000000</td>\n",
       "    </tr>\n",
       "    <tr>\n",
       "      <th>1</th>\n",
       "      <td>8844</td>\n",
       "      <td>-1.130172</td>\n",
       "      <td>-0.203857</td>\n",
       "      <td>-0.265670</td>\n",
       "      <td>1.005027</td>\n",
       "      <td>-0.303450</td>\n",
       "      <td>-1.180258</td>\n",
       "      <td>0.296309</td>\n",
       "      <td>1.438673</td>\n",
       "      <td>1.021423</td>\n",
       "      <td>...</td>\n",
       "      <td>1.989233</td>\n",
       "      <td>0.054273</td>\n",
       "      <td>-0.872724</td>\n",
       "      <td>-0.601492</td>\n",
       "      <td>0.401695</td>\n",
       "      <td>0.966455</td>\n",
       "      <td>0.363875</td>\n",
       "      <td>-0.444427</td>\n",
       "      <td>-0.117064</td>\n",
       "      <td>0.346752</td>\n",
       "    </tr>\n",
       "    <tr>\n",
       "      <th>2</th>\n",
       "      <td>15602</td>\n",
       "      <td>-0.594582</td>\n",
       "      <td>1.112170</td>\n",
       "      <td>-0.733422</td>\n",
       "      <td>0.645595</td>\n",
       "      <td>0.193194</td>\n",
       "      <td>-0.837224</td>\n",
       "      <td>0.091867</td>\n",
       "      <td>2.327102</td>\n",
       "      <td>0.459391</td>\n",
       "      <td>...</td>\n",
       "      <td>0.593009</td>\n",
       "      <td>0.270496</td>\n",
       "      <td>0.790447</td>\n",
       "      <td>-0.303808</td>\n",
       "      <td>0.579712</td>\n",
       "      <td>0.231543</td>\n",
       "      <td>0.506603</td>\n",
       "      <td>-0.293885</td>\n",
       "      <td>0.316924</td>\n",
       "      <td>1.120909</td>\n",
       "    </tr>\n",
       "    <tr>\n",
       "      <th>3</th>\n",
       "      <td>31357</td>\n",
       "      <td>-0.223846</td>\n",
       "      <td>1.122805</td>\n",
       "      <td>0.847333</td>\n",
       "      <td>-0.301235</td>\n",
       "      <td>0.221316</td>\n",
       "      <td>-0.771223</td>\n",
       "      <td>-0.397641</td>\n",
       "      <td>1.510231</td>\n",
       "      <td>0.053264</td>\n",
       "      <td>...</td>\n",
       "      <td>0.402126</td>\n",
       "      <td>-0.261817</td>\n",
       "      <td>0.493453</td>\n",
       "      <td>-0.949528</td>\n",
       "      <td>0.204875</td>\n",
       "      <td>-0.038256</td>\n",
       "      <td>0.064748</td>\n",
       "      <td>0.098242</td>\n",
       "      <td>-0.255637</td>\n",
       "      <td>0.325463</td>\n",
       "    </tr>\n",
       "    <tr>\n",
       "      <th>4</th>\n",
       "      <td>11862</td>\n",
       "      <td>0.801947</td>\n",
       "      <td>-0.497675</td>\n",
       "      <td>0.179389</td>\n",
       "      <td>0.670217</td>\n",
       "      <td>0.565143</td>\n",
       "      <td>-0.561894</td>\n",
       "      <td>0.381740</td>\n",
       "      <td>1.638131</td>\n",
       "      <td>-0.976643</td>\n",
       "      <td>...</td>\n",
       "      <td>1.685586</td>\n",
       "      <td>-0.253695</td>\n",
       "      <td>-1.297128</td>\n",
       "      <td>-0.106872</td>\n",
       "      <td>-0.188993</td>\n",
       "      <td>0.555610</td>\n",
       "      <td>-1.166854</td>\n",
       "      <td>-0.724291</td>\n",
       "      <td>-0.468282</td>\n",
       "      <td>0.228440</td>\n",
       "    </tr>\n",
       "  </tbody>\n",
       "</table>\n",
       "<p>5 rows × 101 columns</p>\n",
       "</div>"
      ],
      "text/plain": [
       "      id         0         1         2         3         4         5  \\\n",
       "0    862  0.000000  0.000000  0.000000  0.000000  0.000000  0.000000   \n",
       "1   8844 -1.130172 -0.203857 -0.265670  1.005027 -0.303450 -1.180258   \n",
       "2  15602 -0.594582  1.112170 -0.733422  0.645595  0.193194 -0.837224   \n",
       "3  31357 -0.223846  1.122805  0.847333 -0.301235  0.221316 -0.771223   \n",
       "4  11862  0.801947 -0.497675  0.179389  0.670217  0.565143 -0.561894   \n",
       "\n",
       "          6         7         8  ...        90        91        92        93  \\\n",
       "0  0.000000  0.000000  0.000000  ...  0.000000  0.000000  0.000000  0.000000   \n",
       "1  0.296309  1.438673  1.021423  ...  1.989233  0.054273 -0.872724 -0.601492   \n",
       "2  0.091867  2.327102  0.459391  ...  0.593009  0.270496  0.790447 -0.303808   \n",
       "3 -0.397641  1.510231  0.053264  ...  0.402126 -0.261817  0.493453 -0.949528   \n",
       "4  0.381740  1.638131 -0.976643  ...  1.685586 -0.253695 -1.297128 -0.106872   \n",
       "\n",
       "         94        95        96        97        98        99  \n",
       "0  0.000000  0.000000  0.000000  0.000000  0.000000  0.000000  \n",
       "1  0.401695  0.966455  0.363875 -0.444427 -0.117064  0.346752  \n",
       "2  0.579712  0.231543  0.506603 -0.293885  0.316924  1.120909  \n",
       "3  0.204875 -0.038256  0.064748  0.098242 -0.255637  0.325463  \n",
       "4 -0.188993  0.555610 -1.166854 -0.724291 -0.468282  0.228440  \n",
       "\n",
       "[5 rows x 101 columns]"
      ]
     },
     "execution_count": 60,
     "metadata": {},
     "output_type": "execute_result"
    }
   ],
   "source": [
    "df_emb.head(5)"
   ]
  },
  {
   "cell_type": "code",
   "execution_count": 61,
   "id": "b228c9b0",
   "metadata": {},
   "outputs": [
    {
     "data": {
      "text/plain": [
       "(45466, 101)"
      ]
     },
     "execution_count": 61,
     "metadata": {},
     "output_type": "execute_result"
    }
   ],
   "source": [
    "df_emb.shape"
   ]
  }
 ],
 "metadata": {
  "kernelspec": {
   "display_name": "Python 3 (ipykernel)",
   "language": "python",
   "name": "python3"
  },
  "language_info": {
   "codemirror_mode": {
    "name": "ipython",
    "version": 3
   },
   "file_extension": ".py",
   "mimetype": "text/x-python",
   "name": "python",
   "nbconvert_exporter": "python",
   "pygments_lexer": "ipython3",
   "version": "3.9.5"
  }
 },
 "nbformat": 4,
 "nbformat_minor": 5
}
