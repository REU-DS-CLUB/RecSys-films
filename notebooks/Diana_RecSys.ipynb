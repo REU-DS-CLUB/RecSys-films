{
 "cells": [
  {
   "cell_type": "markdown",
   "id": "e3918d9d",
   "metadata": {},
   "source": [
    "# Импорт библиотек и чтение файлов"
   ]
  },
  {
   "cell_type": "code",
   "execution_count": 1,
   "id": "8375c361",
   "metadata": {},
   "outputs": [],
   "source": [
    "import pandas as pd\n",
    "import matplotlib.pyplot as plt \n",
    "%matplotlib inline \n",
    "import numpy as np\n",
    "import string\n",
    "from tqdm import tqdm_notebook as tqdm\n",
    "import re\n",
    "\n",
    "#NLTK\n",
    "import nltk\n",
    "from nltk.corpus import stopwords\n",
    "from nltk.stem import WordNetLemmatizer\n",
    "from nltk.stem import SnowballStemmer\n",
    "\n",
    "from keras.preprocessing.text import Tokenizer\n",
    "from keras.preprocessing.sequence import pad_sequences\n",
    "\n",
    "from gensim.models import Word2Vec"
   ]
  },
  {
   "cell_type": "code",
   "execution_count": 2,
   "id": "4776f71c",
   "metadata": {},
   "outputs": [
    {
     "name": "stderr",
     "output_type": "stream",
     "text": [
      "C:\\Users\\isaev\\miniconda3\\lib\\site-packages\\IPython\\core\\interactiveshell.py:3444: DtypeWarning: Columns (10) have mixed types.Specify dtype option on import or set low_memory=False.\n",
      "  exec(code_obj, self.user_global_ns, self.user_ns)\n"
     ]
    },
    {
     "data": {
      "text/plain": [
       "(45466, 24)"
      ]
     },
     "execution_count": 2,
     "metadata": {},
     "output_type": "execute_result"
    }
   ],
   "source": [
    "df_movies = pd.read_csv(r'movies_metadata.csv')\n",
    "df_movies.shape"
   ]
  },
  {
   "cell_type": "markdown",
   "id": "3ce1097d",
   "metadata": {},
   "source": [
    "# Preprocessing"
   ]
  },
  {
   "cell_type": "markdown",
   "id": "2f13014e",
   "metadata": {},
   "source": [
    "*Проверим на наличие NaN*"
   ]
  },
  {
   "cell_type": "code",
   "execution_count": 3,
   "id": "b91ee2c3",
   "metadata": {},
   "outputs": [
    {
     "data": {
      "text/plain": [
       "adult                        0\n",
       "belongs_to_collection    40972\n",
       "budget                       0\n",
       "genres                       0\n",
       "homepage                 37684\n",
       "id                           0\n",
       "imdb_id                     17\n",
       "original_language           11\n",
       "original_title               0\n",
       "overview                   954\n",
       "popularity                   5\n",
       "poster_path                386\n",
       "production_companies         3\n",
       "production_countries         3\n",
       "release_date                87\n",
       "revenue                      6\n",
       "runtime                    263\n",
       "spoken_languages             6\n",
       "status                      87\n",
       "tagline                  25054\n",
       "title                        6\n",
       "video                        6\n",
       "vote_average                 6\n",
       "vote_count                   6\n",
       "dtype: int64"
      ]
     },
     "execution_count": 3,
     "metadata": {},
     "output_type": "execute_result"
    }
   ],
   "source": [
    "df_movies.isnull().sum()"
   ]
  },
  {
   "cell_type": "code",
   "execution_count": 4,
   "id": "a5df0f86",
   "metadata": {},
   "outputs": [
    {
     "data": {
      "text/html": [
       "<div>\n",
       "<style scoped>\n",
       "    .dataframe tbody tr th:only-of-type {\n",
       "        vertical-align: middle;\n",
       "    }\n",
       "\n",
       "    .dataframe tbody tr th {\n",
       "        vertical-align: top;\n",
       "    }\n",
       "\n",
       "    .dataframe thead th {\n",
       "        text-align: right;\n",
       "    }\n",
       "</style>\n",
       "<table border=\"1\" class=\"dataframe\">\n",
       "  <thead>\n",
       "    <tr style=\"text-align: right;\">\n",
       "      <th></th>\n",
       "      <th>adult</th>\n",
       "      <th>belongs_to_collection</th>\n",
       "      <th>budget</th>\n",
       "      <th>genres</th>\n",
       "      <th>homepage</th>\n",
       "      <th>id</th>\n",
       "      <th>imdb_id</th>\n",
       "      <th>original_language</th>\n",
       "      <th>original_title</th>\n",
       "      <th>overview</th>\n",
       "      <th>...</th>\n",
       "      <th>release_date</th>\n",
       "      <th>revenue</th>\n",
       "      <th>runtime</th>\n",
       "      <th>spoken_languages</th>\n",
       "      <th>status</th>\n",
       "      <th>tagline</th>\n",
       "      <th>title</th>\n",
       "      <th>video</th>\n",
       "      <th>vote_average</th>\n",
       "      <th>vote_count</th>\n",
       "    </tr>\n",
       "  </thead>\n",
       "  <tbody>\n",
       "    <tr>\n",
       "      <th>0</th>\n",
       "      <td>False</td>\n",
       "      <td>{'id': 10194, 'name': 'Toy Story Collection', ...</td>\n",
       "      <td>30000000</td>\n",
       "      <td>[{'id': 16, 'name': 'Animation'}, {'id': 35, '...</td>\n",
       "      <td>http://toystory.disney.com/toy-story</td>\n",
       "      <td>862</td>\n",
       "      <td>tt0114709</td>\n",
       "      <td>en</td>\n",
       "      <td>Toy Story</td>\n",
       "      <td>Led by Woody, Andy's toys live happily in his ...</td>\n",
       "      <td>...</td>\n",
       "      <td>1995-10-30</td>\n",
       "      <td>373554033.0</td>\n",
       "      <td>81.0</td>\n",
       "      <td>[{'iso_639_1': 'en', 'name': 'English'}]</td>\n",
       "      <td>Released</td>\n",
       "      <td>NaN</td>\n",
       "      <td>Toy Story</td>\n",
       "      <td>False</td>\n",
       "      <td>7.7</td>\n",
       "      <td>5415.0</td>\n",
       "    </tr>\n",
       "    <tr>\n",
       "      <th>1</th>\n",
       "      <td>False</td>\n",
       "      <td>NaN</td>\n",
       "      <td>65000000</td>\n",
       "      <td>[{'id': 12, 'name': 'Adventure'}, {'id': 14, '...</td>\n",
       "      <td>NaN</td>\n",
       "      <td>8844</td>\n",
       "      <td>tt0113497</td>\n",
       "      <td>en</td>\n",
       "      <td>Jumanji</td>\n",
       "      <td>When siblings Judy and Peter discover an encha...</td>\n",
       "      <td>...</td>\n",
       "      <td>1995-12-15</td>\n",
       "      <td>262797249.0</td>\n",
       "      <td>104.0</td>\n",
       "      <td>[{'iso_639_1': 'en', 'name': 'English'}, {'iso...</td>\n",
       "      <td>Released</td>\n",
       "      <td>Roll the dice and unleash the excitement!</td>\n",
       "      <td>Jumanji</td>\n",
       "      <td>False</td>\n",
       "      <td>6.9</td>\n",
       "      <td>2413.0</td>\n",
       "    </tr>\n",
       "  </tbody>\n",
       "</table>\n",
       "<p>2 rows × 24 columns</p>\n",
       "</div>"
      ],
      "text/plain": [
       "   adult                              belongs_to_collection    budget  \\\n",
       "0  False  {'id': 10194, 'name': 'Toy Story Collection', ...  30000000   \n",
       "1  False                                                NaN  65000000   \n",
       "\n",
       "                                              genres  \\\n",
       "0  [{'id': 16, 'name': 'Animation'}, {'id': 35, '...   \n",
       "1  [{'id': 12, 'name': 'Adventure'}, {'id': 14, '...   \n",
       "\n",
       "                               homepage    id    imdb_id original_language  \\\n",
       "0  http://toystory.disney.com/toy-story   862  tt0114709                en   \n",
       "1                                   NaN  8844  tt0113497                en   \n",
       "\n",
       "  original_title                                           overview  ...  \\\n",
       "0      Toy Story  Led by Woody, Andy's toys live happily in his ...  ...   \n",
       "1        Jumanji  When siblings Judy and Peter discover an encha...  ...   \n",
       "\n",
       "  release_date      revenue runtime  \\\n",
       "0   1995-10-30  373554033.0    81.0   \n",
       "1   1995-12-15  262797249.0   104.0   \n",
       "\n",
       "                                    spoken_languages    status  \\\n",
       "0           [{'iso_639_1': 'en', 'name': 'English'}]  Released   \n",
       "1  [{'iso_639_1': 'en', 'name': 'English'}, {'iso...  Released   \n",
       "\n",
       "                                     tagline      title  video vote_average  \\\n",
       "0                                        NaN  Toy Story  False          7.7   \n",
       "1  Roll the dice and unleash the excitement!    Jumanji  False          6.9   \n",
       "\n",
       "  vote_count  \n",
       "0     5415.0  \n",
       "1     2413.0  \n",
       "\n",
       "[2 rows x 24 columns]"
      ]
     },
     "execution_count": 4,
     "metadata": {},
     "output_type": "execute_result"
    }
   ],
   "source": [
    "df_movies.head(2)"
   ]
  },
  {
   "cell_type": "markdown",
   "id": "deaa57e2",
   "metadata": {},
   "source": [
    "*Удалим столбцы с большим количеством NaN и столбцы, которые нам не особо нужны, чтоб уменьшим размер датафрейма*"
   ]
  },
  {
   "cell_type": "code",
   "execution_count": 5,
   "id": "e64a25ce",
   "metadata": {},
   "outputs": [],
   "source": [
    "df_movies['original_title'] = df_movies['title']"
   ]
  },
  {
   "cell_type": "code",
   "execution_count": 6,
   "id": "a1e943e4",
   "metadata": {},
   "outputs": [
    {
     "name": "stderr",
     "output_type": "stream",
     "text": [
      "C:\\Users\\isaev\\AppData\\Local\\Temp/ipykernel_3780/868513532.py:1: FutureWarning: In a future version of pandas all arguments of DataFrame.drop except for the argument 'labels' will be keyword-only\n",
      "  df_movies.drop(df_movies.columns.difference(['original_title', 'overview', 'id']), 1, inplace=True)\n"
     ]
    }
   ],
   "source": [
    "df_movies.drop(df_movies.columns.difference(['original_title', 'overview', 'id']), 1, inplace=True)"
   ]
  },
  {
   "cell_type": "code",
   "execution_count": 7,
   "id": "017a196b",
   "metadata": {},
   "outputs": [],
   "source": [
    "id_film = df_movies['id'].nunique()"
   ]
  },
  {
   "cell_type": "code",
   "execution_count": 8,
   "id": "b1b76d77",
   "metadata": {},
   "outputs": [
    {
     "data": {
      "text/plain": [
       "id                0\n",
       "original_title    0\n",
       "overview          0\n",
       "dtype: int64"
      ]
     },
     "execution_count": 8,
     "metadata": {},
     "output_type": "execute_result"
    }
   ],
   "source": [
    "df_movies = df_movies.fillna(0)\n",
    "df_movies.isnull().sum()"
   ]
  },
  {
   "cell_type": "markdown",
   "id": "67d74cf2",
   "metadata": {},
   "source": [
    "*Функця препроцессинга*"
   ]
  },
  {
   "cell_type": "code",
   "execution_count": 9,
   "id": "cfa60354",
   "metadata": {},
   "outputs": [],
   "source": [
    "def preprocessing(data, lemmatizer = WordNetLemmatizer(), \n",
    "                  stop_words = stopwords.words('english')):\n",
    "    \n",
    "    \"\"\"\n",
    "    На вход: датафрейм с описанием и названием фильмов,\n",
    "    также пробрасываются стоп-слова и класс для лемматизации текстов\n",
    "    \n",
    "    На выходе: список с предобработанными текстовыми данными\n",
    "    \"\"\"\n",
    "    \n",
    "    texts = data.values.tolist()\n",
    "    new_text = []\n",
    "\n",
    "    for i in tqdm(range(len(texts))):\n",
    "        text = texts[i]\n",
    "        # Lowercase & Drop stopwords and punctuation\n",
    "        punct_free = re.sub('[^a-zA-Z]', ' ', str(text).lower())\n",
    "        punct_free = re.sub(r'\\s+', ' ', punct_free)\n",
    "        stop_free = \" \".join([i for i in punct_free.split() if i not in stop_words])\n",
    "        # stem_text = \" \".join([stemmer.stem(word) for word in stop_free.split(' ')])\n",
    "        \n",
    "        lemma_text = ' '.join([lemmatizer.lemmatize(word) for word in stop_free.split(' ')])\n",
    "        new_text.append(lemma_text)\n",
    "    return new_text"
   ]
  },
  {
   "cell_type": "code",
   "execution_count": 10,
   "id": "5c90e358",
   "metadata": {},
   "outputs": [
    {
     "name": "stderr",
     "output_type": "stream",
     "text": [
      "[nltk_data] Downloading package stopwords to\n",
      "[nltk_data]     C:\\Users\\isaev\\AppData\\Roaming\\nltk_data...\n",
      "[nltk_data]   Package stopwords is already up-to-date!\n",
      "C:\\Users\\isaev\\AppData\\Local\\Temp/ipykernel_3780/3915145218.py:14: TqdmDeprecationWarning: This function will be removed in tqdm==5.0.0\n",
      "Please use `tqdm.notebook.tqdm` instead of `tqdm.tqdm_notebook`\n",
      "  for i in tqdm(range(len(texts))):\n"
     ]
    },
    {
     "data": {
      "application/vnd.jupyter.widget-view+json": {
       "model_id": "46b111cad089483ab9a1204dfaa31ef6",
       "version_major": 2,
       "version_minor": 0
      },
      "text/plain": [
       "  0%|          | 0/45466 [00:00<?, ?it/s]"
      ]
     },
     "metadata": {},
     "output_type": "display_data"
    },
    {
     "data": {
      "application/vnd.jupyter.widget-view+json": {
       "model_id": "87edc6a37b674edc823226451bc3ebcb",
       "version_major": 2,
       "version_minor": 0
      },
      "text/plain": [
       "  0%|          | 0/45466 [00:00<?, ?it/s]"
      ]
     },
     "metadata": {},
     "output_type": "display_data"
    }
   ],
   "source": [
    "nltk.download(\"stopwords\")\n",
    "\n",
    "\n",
    "text_overview = preprocessing(df_movies[\"overview\"])\n",
    "text_title = preprocessing(df_movies[\"original_title\"])\n",
    "\n",
    "df_movies[\"overview\"] = text_overview\n",
    "df_movies[\"original_title\"] = text_title \n",
    "\n",
    "# Закидываем предобработанные описания и названия фильмов в общий список\n",
    "text_prepr = text_title + text_overview"
   ]
  },
  {
   "cell_type": "code",
   "execution_count": 11,
   "id": "45e09f6c",
   "metadata": {},
   "outputs": [],
   "source": [
    "text_prepr = [i.split() for i in text_prepr]\n",
    "# text_prepr_over = [i.split() for i in text_overview]"
   ]
  },
  {
   "cell_type": "markdown",
   "id": "d8c1e685",
   "metadata": {},
   "source": [
    "# Word2Vec"
   ]
  },
  {
   "cell_type": "code",
   "execution_count": 12,
   "id": "248ec551",
   "metadata": {},
   "outputs": [],
   "source": [
    "model = Word2Vec(text_prepr, \n",
    "                 window=10, \n",
    "                 min_count=2)"
   ]
  },
  {
   "cell_type": "code",
   "execution_count": 13,
   "id": "e8cc744b",
   "metadata": {},
   "outputs": [
    {
     "name": "stdout",
     "output_type": "stream",
     "text": [
      "Vocab size = 40606\n"
     ]
    }
   ],
   "source": [
    "model.build_vocab(text_prepr)\n",
    "words = model.wv.index_to_key\n",
    "vocab_size = len(words)\n",
    "\n",
    "print(\"Vocab size =\", vocab_size)"
   ]
  },
  {
   "cell_type": "markdown",
   "id": "eb921dc6",
   "metadata": {},
   "source": [
    "### Tockenizer & embeding"
   ]
  },
  {
   "cell_type": "code",
   "execution_count": 14,
   "id": "f86bd7c8",
   "metadata": {},
   "outputs": [],
   "source": [
    "tokenizer = Tokenizer()"
   ]
  },
  {
   "cell_type": "code",
   "execution_count": 15,
   "id": "30cdcbaf",
   "metadata": {},
   "outputs": [
    {
     "name": "stdout",
     "output_type": "stream",
     "text": [
      "Total words: 71878\n"
     ]
    }
   ],
   "source": [
    "# Обновляем внутренний словарь на основе списка текстов.\n",
    "tokenizer.fit_on_texts(text_prepr)\n",
    "vocab_size = len(tokenizer.word_index) + 1\n",
    "\n",
    "print(\"Total words:\", vocab_size)"
   ]
  },
  {
   "cell_type": "markdown",
   "id": "d3e7aa6b",
   "metadata": {},
   "source": [
    "*Создание матрицы эмбедингов*"
   ]
  },
  {
   "cell_type": "markdown",
   "id": "0ff009ed",
   "metadata": {},
   "source": [
    "*Функция построения матрицы эмбедингов*"
   ]
  },
  {
   "cell_type": "code",
   "execution_count": 16,
   "id": "2b6cadac",
   "metadata": {},
   "outputs": [],
   "source": [
    "def embedding_matrix(tock, model):\n",
    "    \n",
    "    \"\"\"\n",
    "    На вход: словарь tokenizer.word_index \n",
    "    модель word2vec\n",
    "    \n",
    "    На выходе: матрица эмбедингов текста\n",
    "    \"\"\"\n",
    "    \n",
    "    embedding_matrix = np.zeros((id_film, 100))\n",
    "\n",
    "    for word, i in tock.items():\n",
    "        if word in model:\n",
    "            embedding_matrix[i] = model[word]\n",
    "    return embedding_matrix"
   ]
  },
  {
   "cell_type": "code",
   "execution_count": 17,
   "id": "055d983e",
   "metadata": {},
   "outputs": [],
   "source": [
    "embedding_matrix = embedding_matrix(tokenizer.word_index, model.wv)"
   ]
  },
  {
   "cell_type": "code",
   "execution_count": 18,
   "id": "bbadec84",
   "metadata": {},
   "outputs": [],
   "source": [
    "df_emb = pd.concat([df_movies[['id']],\n",
    "                    pd.DataFrame(embedding_matrix)], axis=1)"
   ]
  },
  {
   "cell_type": "code",
   "execution_count": 19,
   "id": "83eebfe5",
   "metadata": {},
   "outputs": [
    {
     "data": {
      "text/html": [
       "<div>\n",
       "<style scoped>\n",
       "    .dataframe tbody tr th:only-of-type {\n",
       "        vertical-align: middle;\n",
       "    }\n",
       "\n",
       "    .dataframe tbody tr th {\n",
       "        vertical-align: top;\n",
       "    }\n",
       "\n",
       "    .dataframe thead th {\n",
       "        text-align: right;\n",
       "    }\n",
       "</style>\n",
       "<table border=\"1\" class=\"dataframe\">\n",
       "  <thead>\n",
       "    <tr style=\"text-align: right;\">\n",
       "      <th></th>\n",
       "      <th>id</th>\n",
       "      <th>0</th>\n",
       "      <th>1</th>\n",
       "      <th>2</th>\n",
       "      <th>3</th>\n",
       "      <th>4</th>\n",
       "      <th>5</th>\n",
       "      <th>6</th>\n",
       "      <th>7</th>\n",
       "      <th>8</th>\n",
       "      <th>...</th>\n",
       "      <th>90</th>\n",
       "      <th>91</th>\n",
       "      <th>92</th>\n",
       "      <th>93</th>\n",
       "      <th>94</th>\n",
       "      <th>95</th>\n",
       "      <th>96</th>\n",
       "      <th>97</th>\n",
       "      <th>98</th>\n",
       "      <th>99</th>\n",
       "    </tr>\n",
       "  </thead>\n",
       "  <tbody>\n",
       "    <tr>\n",
       "      <th>0</th>\n",
       "      <td>862</td>\n",
       "      <td>0.000000</td>\n",
       "      <td>0.000000</td>\n",
       "      <td>0.000000</td>\n",
       "      <td>0.000000</td>\n",
       "      <td>0.000000</td>\n",
       "      <td>0.000000</td>\n",
       "      <td>0.000000</td>\n",
       "      <td>0.000000</td>\n",
       "      <td>0.000000</td>\n",
       "      <td>...</td>\n",
       "      <td>0.000000</td>\n",
       "      <td>0.000000</td>\n",
       "      <td>0.000000</td>\n",
       "      <td>0.000000</td>\n",
       "      <td>0.000000</td>\n",
       "      <td>0.000000</td>\n",
       "      <td>0.000000</td>\n",
       "      <td>0.000000</td>\n",
       "      <td>0.000000</td>\n",
       "      <td>0.000000</td>\n",
       "    </tr>\n",
       "    <tr>\n",
       "      <th>1</th>\n",
       "      <td>8844</td>\n",
       "      <td>-0.269921</td>\n",
       "      <td>-0.835759</td>\n",
       "      <td>0.502752</td>\n",
       "      <td>0.750740</td>\n",
       "      <td>-0.659748</td>\n",
       "      <td>-0.556677</td>\n",
       "      <td>0.251750</td>\n",
       "      <td>0.313702</td>\n",
       "      <td>-0.333353</td>\n",
       "      <td>...</td>\n",
       "      <td>0.673201</td>\n",
       "      <td>-0.434796</td>\n",
       "      <td>0.670285</td>\n",
       "      <td>0.225371</td>\n",
       "      <td>0.337864</td>\n",
       "      <td>0.626018</td>\n",
       "      <td>0.695900</td>\n",
       "      <td>-0.729893</td>\n",
       "      <td>0.196536</td>\n",
       "      <td>0.186634</td>\n",
       "    </tr>\n",
       "    <tr>\n",
       "      <th>2</th>\n",
       "      <td>15602</td>\n",
       "      <td>-1.934688</td>\n",
       "      <td>-0.460044</td>\n",
       "      <td>-0.081974</td>\n",
       "      <td>0.926673</td>\n",
       "      <td>-0.828871</td>\n",
       "      <td>-0.003919</td>\n",
       "      <td>-1.382224</td>\n",
       "      <td>-0.693451</td>\n",
       "      <td>-1.050699</td>\n",
       "      <td>...</td>\n",
       "      <td>1.334867</td>\n",
       "      <td>0.148836</td>\n",
       "      <td>0.672071</td>\n",
       "      <td>0.199795</td>\n",
       "      <td>0.258788</td>\n",
       "      <td>0.720529</td>\n",
       "      <td>0.181353</td>\n",
       "      <td>0.440248</td>\n",
       "      <td>0.707728</td>\n",
       "      <td>0.066668</td>\n",
       "    </tr>\n",
       "    <tr>\n",
       "      <th>3</th>\n",
       "      <td>31357</td>\n",
       "      <td>-0.514307</td>\n",
       "      <td>-0.322166</td>\n",
       "      <td>0.306954</td>\n",
       "      <td>1.214350</td>\n",
       "      <td>-0.287270</td>\n",
       "      <td>-0.418287</td>\n",
       "      <td>0.319377</td>\n",
       "      <td>-0.728764</td>\n",
       "      <td>-0.720492</td>\n",
       "      <td>...</td>\n",
       "      <td>0.795687</td>\n",
       "      <td>0.213189</td>\n",
       "      <td>0.225776</td>\n",
       "      <td>0.869911</td>\n",
       "      <td>0.788290</td>\n",
       "      <td>0.841630</td>\n",
       "      <td>0.586041</td>\n",
       "      <td>0.206556</td>\n",
       "      <td>0.294887</td>\n",
       "      <td>-0.790993</td>\n",
       "    </tr>\n",
       "    <tr>\n",
       "      <th>4</th>\n",
       "      <td>11862</td>\n",
       "      <td>-1.226975</td>\n",
       "      <td>-0.344552</td>\n",
       "      <td>1.422143</td>\n",
       "      <td>-0.167030</td>\n",
       "      <td>-1.223665</td>\n",
       "      <td>-0.794143</td>\n",
       "      <td>-0.756765</td>\n",
       "      <td>-0.460494</td>\n",
       "      <td>-0.308596</td>\n",
       "      <td>...</td>\n",
       "      <td>1.175697</td>\n",
       "      <td>-1.312740</td>\n",
       "      <td>0.937686</td>\n",
       "      <td>-0.156272</td>\n",
       "      <td>-0.617568</td>\n",
       "      <td>1.682300</td>\n",
       "      <td>1.279618</td>\n",
       "      <td>-0.026088</td>\n",
       "      <td>-1.304477</td>\n",
       "      <td>0.577214</td>\n",
       "    </tr>\n",
       "  </tbody>\n",
       "</table>\n",
       "<p>5 rows × 101 columns</p>\n",
       "</div>"
      ],
      "text/plain": [
       "      id         0         1         2         3         4         5  \\\n",
       "0    862  0.000000  0.000000  0.000000  0.000000  0.000000  0.000000   \n",
       "1   8844 -0.269921 -0.835759  0.502752  0.750740 -0.659748 -0.556677   \n",
       "2  15602 -1.934688 -0.460044 -0.081974  0.926673 -0.828871 -0.003919   \n",
       "3  31357 -0.514307 -0.322166  0.306954  1.214350 -0.287270 -0.418287   \n",
       "4  11862 -1.226975 -0.344552  1.422143 -0.167030 -1.223665 -0.794143   \n",
       "\n",
       "          6         7         8  ...        90        91        92        93  \\\n",
       "0  0.000000  0.000000  0.000000  ...  0.000000  0.000000  0.000000  0.000000   \n",
       "1  0.251750  0.313702 -0.333353  ...  0.673201 -0.434796  0.670285  0.225371   \n",
       "2 -1.382224 -0.693451 -1.050699  ...  1.334867  0.148836  0.672071  0.199795   \n",
       "3  0.319377 -0.728764 -0.720492  ...  0.795687  0.213189  0.225776  0.869911   \n",
       "4 -0.756765 -0.460494 -0.308596  ...  1.175697 -1.312740  0.937686 -0.156272   \n",
       "\n",
       "         94        95        96        97        98        99  \n",
       "0  0.000000  0.000000  0.000000  0.000000  0.000000  0.000000  \n",
       "1  0.337864  0.626018  0.695900 -0.729893  0.196536  0.186634  \n",
       "2  0.258788  0.720529  0.181353  0.440248  0.707728  0.066668  \n",
       "3  0.788290  0.841630  0.586041  0.206556  0.294887 -0.790993  \n",
       "4 -0.617568  1.682300  1.279618 -0.026088 -1.304477  0.577214  \n",
       "\n",
       "[5 rows x 101 columns]"
      ]
     },
     "execution_count": 19,
     "metadata": {},
     "output_type": "execute_result"
    }
   ],
   "source": [
    "df_emb.head(5)"
   ]
  },
  {
   "cell_type": "code",
   "execution_count": 20,
   "id": "b228c9b0",
   "metadata": {},
   "outputs": [
    {
     "data": {
      "text/plain": [
       "(45466, 101)"
      ]
     },
     "execution_count": 20,
     "metadata": {},
     "output_type": "execute_result"
    }
   ],
   "source": [
    "df_emb.shape"
   ]
  }
 ],
 "metadata": {
  "kernelspec": {
   "display_name": "Python 3 (ipykernel)",
   "language": "python",
   "name": "python3"
  },
  "language_info": {
   "codemirror_mode": {
    "name": "ipython",
    "version": 3
   },
   "file_extension": ".py",
   "mimetype": "text/x-python",
   "name": "python",
   "nbconvert_exporter": "python",
   "pygments_lexer": "ipython3",
   "version": "3.9.5"
  }
 },
 "nbformat": 4,
 "nbformat_minor": 5
}
