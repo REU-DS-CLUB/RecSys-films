{
 "cells": [
  {
   "cell_type": "markdown",
   "id": "e3918d9d",
   "metadata": {},
   "source": [
    "# Импорт библиотек и чтение файлов"
   ]
  },
  {
   "cell_type": "code",
   "execution_count": 32,
   "id": "8375c361",
   "metadata": {},
   "outputs": [
    {
     "name": "stderr",
     "output_type": "stream",
     "text": [
      "[nltk_data] Error loading english: Package 'english' not found in\n",
      "[nltk_data]     index\n"
     ]
    }
   ],
   "source": [
    "import pandas as pd\n",
    "import matplotlib.pyplot as plt \n",
    "%matplotlib inline \n",
    "import numpy as np\n",
    "import string\n",
    "from tqdm import tqdm_notebook as tqdm\n",
    "import re\n",
    "\n",
    "#NLTK\n",
    "import nltk\n",
    "from nltk.corpus import stopwords\n",
    "nltk.download(\"english\")\n",
    "from nltk.stem import WordNetLemmatizer\n",
    "from nltk.stem import SnowballStemmer\n",
    "\n",
    "from keras.preprocessing.text import Tokenizer\n",
    "from keras.preprocessing.sequence import pad_sequences\n",
    "\n",
    "from gensim.models import Word2Vec"
   ]
  },
  {
   "cell_type": "code",
   "execution_count": 2,
   "id": "4776f71c",
   "metadata": {},
   "outputs": [
    {
     "name": "stderr",
     "output_type": "stream",
     "text": [
      "C:\\Users\\isaev\\miniconda3\\lib\\site-packages\\IPython\\core\\interactiveshell.py:3444: DtypeWarning: Columns (10) have mixed types.Specify dtype option on import or set low_memory=False.\n",
      "  exec(code_obj, self.user_global_ns, self.user_ns)\n"
     ]
    }
   ],
   "source": [
    "movies_df = pd.read_csv(r'movies_metadata.csv')\n",
    "rating_df = pd.read_csv(r'ratings.csv')"
   ]
  },
  {
   "cell_type": "markdown",
   "id": "3ce1097d",
   "metadata": {},
   "source": [
    "# Preprocessing"
   ]
  },
  {
   "cell_type": "markdown",
   "id": "36a36556",
   "metadata": {},
   "source": [
    "*Объединим два датафрейма в один*"
   ]
  },
  {
   "cell_type": "code",
   "execution_count": 3,
   "id": "176d5a44",
   "metadata": {},
   "outputs": [
    {
     "data": {
      "text/plain": [
       "(45466, 28)"
      ]
     },
     "execution_count": 3,
     "metadata": {},
     "output_type": "execute_result"
    }
   ],
   "source": [
    "df = movies_df.join(rating_df)\n",
    "df.shape"
   ]
  },
  {
   "cell_type": "markdown",
   "id": "2f13014e",
   "metadata": {},
   "source": [
    "*Проверим на наличие NaN"
   ]
  },
  {
   "cell_type": "code",
   "execution_count": 4,
   "id": "b91ee2c3",
   "metadata": {},
   "outputs": [
    {
     "data": {
      "text/plain": [
       "adult                        0\n",
       "belongs_to_collection    40972\n",
       "budget                       0\n",
       "genres                       0\n",
       "homepage                 37684\n",
       "id                           0\n",
       "imdb_id                     17\n",
       "original_language           11\n",
       "original_title               0\n",
       "overview                   954\n",
       "popularity                   5\n",
       "poster_path                386\n",
       "production_companies         3\n",
       "production_countries         3\n",
       "release_date                87\n",
       "revenue                      6\n",
       "runtime                    263\n",
       "spoken_languages             6\n",
       "status                      87\n",
       "tagline                  25054\n",
       "title                        6\n",
       "video                        6\n",
       "vote_average                 6\n",
       "vote_count                   6\n",
       "userId                       0\n",
       "movieId                      0\n",
       "rating                       0\n",
       "timestamp                    0\n",
       "dtype: int64"
      ]
     },
     "execution_count": 4,
     "metadata": {},
     "output_type": "execute_result"
    }
   ],
   "source": [
    "df.isnull().sum()"
   ]
  },
  {
   "cell_type": "code",
   "execution_count": 5,
   "id": "a5df0f86",
   "metadata": {},
   "outputs": [
    {
     "data": {
      "text/html": [
       "<div>\n",
       "<style scoped>\n",
       "    .dataframe tbody tr th:only-of-type {\n",
       "        vertical-align: middle;\n",
       "    }\n",
       "\n",
       "    .dataframe tbody tr th {\n",
       "        vertical-align: top;\n",
       "    }\n",
       "\n",
       "    .dataframe thead th {\n",
       "        text-align: right;\n",
       "    }\n",
       "</style>\n",
       "<table border=\"1\" class=\"dataframe\">\n",
       "  <thead>\n",
       "    <tr style=\"text-align: right;\">\n",
       "      <th></th>\n",
       "      <th>adult</th>\n",
       "      <th>belongs_to_collection</th>\n",
       "      <th>budget</th>\n",
       "      <th>genres</th>\n",
       "      <th>homepage</th>\n",
       "      <th>id</th>\n",
       "      <th>imdb_id</th>\n",
       "      <th>original_language</th>\n",
       "      <th>original_title</th>\n",
       "      <th>overview</th>\n",
       "      <th>...</th>\n",
       "      <th>status</th>\n",
       "      <th>tagline</th>\n",
       "      <th>title</th>\n",
       "      <th>video</th>\n",
       "      <th>vote_average</th>\n",
       "      <th>vote_count</th>\n",
       "      <th>userId</th>\n",
       "      <th>movieId</th>\n",
       "      <th>rating</th>\n",
       "      <th>timestamp</th>\n",
       "    </tr>\n",
       "  </thead>\n",
       "  <tbody>\n",
       "    <tr>\n",
       "      <th>0</th>\n",
       "      <td>False</td>\n",
       "      <td>{'id': 10194, 'name': 'Toy Story Collection', ...</td>\n",
       "      <td>30000000</td>\n",
       "      <td>[{'id': 16, 'name': 'Animation'}, {'id': 35, '...</td>\n",
       "      <td>http://toystory.disney.com/toy-story</td>\n",
       "      <td>862</td>\n",
       "      <td>tt0114709</td>\n",
       "      <td>en</td>\n",
       "      <td>Toy Story</td>\n",
       "      <td>Led by Woody, Andy's toys live happily in his ...</td>\n",
       "      <td>...</td>\n",
       "      <td>Released</td>\n",
       "      <td>NaN</td>\n",
       "      <td>Toy Story</td>\n",
       "      <td>False</td>\n",
       "      <td>7.7</td>\n",
       "      <td>5415.0</td>\n",
       "      <td>1</td>\n",
       "      <td>110</td>\n",
       "      <td>1.0</td>\n",
       "      <td>1425941529</td>\n",
       "    </tr>\n",
       "    <tr>\n",
       "      <th>1</th>\n",
       "      <td>False</td>\n",
       "      <td>NaN</td>\n",
       "      <td>65000000</td>\n",
       "      <td>[{'id': 12, 'name': 'Adventure'}, {'id': 14, '...</td>\n",
       "      <td>NaN</td>\n",
       "      <td>8844</td>\n",
       "      <td>tt0113497</td>\n",
       "      <td>en</td>\n",
       "      <td>Jumanji</td>\n",
       "      <td>When siblings Judy and Peter discover an encha...</td>\n",
       "      <td>...</td>\n",
       "      <td>Released</td>\n",
       "      <td>Roll the dice and unleash the excitement!</td>\n",
       "      <td>Jumanji</td>\n",
       "      <td>False</td>\n",
       "      <td>6.9</td>\n",
       "      <td>2413.0</td>\n",
       "      <td>1</td>\n",
       "      <td>147</td>\n",
       "      <td>4.5</td>\n",
       "      <td>1425942435</td>\n",
       "    </tr>\n",
       "  </tbody>\n",
       "</table>\n",
       "<p>2 rows × 28 columns</p>\n",
       "</div>"
      ],
      "text/plain": [
       "   adult                              belongs_to_collection    budget  \\\n",
       "0  False  {'id': 10194, 'name': 'Toy Story Collection', ...  30000000   \n",
       "1  False                                                NaN  65000000   \n",
       "\n",
       "                                              genres  \\\n",
       "0  [{'id': 16, 'name': 'Animation'}, {'id': 35, '...   \n",
       "1  [{'id': 12, 'name': 'Adventure'}, {'id': 14, '...   \n",
       "\n",
       "                               homepage    id    imdb_id original_language  \\\n",
       "0  http://toystory.disney.com/toy-story   862  tt0114709                en   \n",
       "1                                   NaN  8844  tt0113497                en   \n",
       "\n",
       "  original_title                                           overview  ...  \\\n",
       "0      Toy Story  Led by Woody, Andy's toys live happily in his ...  ...   \n",
       "1        Jumanji  When siblings Judy and Peter discover an encha...  ...   \n",
       "\n",
       "     status                                    tagline      title  video  \\\n",
       "0  Released                                        NaN  Toy Story  False   \n",
       "1  Released  Roll the dice and unleash the excitement!    Jumanji  False   \n",
       "\n",
       "  vote_average  vote_count  userId movieId rating   timestamp  \n",
       "0          7.7      5415.0       1     110    1.0  1425941529  \n",
       "1          6.9      2413.0       1     147    4.5  1425942435  \n",
       "\n",
       "[2 rows x 28 columns]"
      ]
     },
     "execution_count": 5,
     "metadata": {},
     "output_type": "execute_result"
    }
   ],
   "source": [
    "df.head(2)"
   ]
  },
  {
   "cell_type": "code",
   "execution_count": 6,
   "id": "d2e62a8d",
   "metadata": {},
   "outputs": [],
   "source": [
    "df['original_title'] = df['title']"
   ]
  },
  {
   "cell_type": "markdown",
   "id": "deaa57e2",
   "metadata": {},
   "source": [
    "*Удалим столбцы с большим количеством NaN и столбцы, которые нам не особо нужны, чтоб уменьшим размер датафрейма*"
   ]
  },
  {
   "cell_type": "code",
   "execution_count": 7,
   "id": "a974a9c8",
   "metadata": {},
   "outputs": [
    {
     "data": {
      "text/plain": [
       "Index(['adult', 'belongs_to_collection', 'budget', 'genres', 'homepage', 'id',\n",
       "       'imdb_id', 'original_language', 'original_title', 'overview',\n",
       "       'popularity', 'poster_path', 'production_companies',\n",
       "       'production_countries', 'release_date', 'revenue', 'runtime',\n",
       "       'spoken_languages', 'status', 'tagline', 'title', 'video',\n",
       "       'vote_average', 'vote_count', 'userId', 'movieId', 'rating',\n",
       "       'timestamp'],\n",
       "      dtype='object')"
      ]
     },
     "execution_count": 7,
     "metadata": {},
     "output_type": "execute_result"
    }
   ],
   "source": [
    "df.columns"
   ]
  },
  {
   "cell_type": "code",
   "execution_count": 8,
   "id": "a1e943e4",
   "metadata": {},
   "outputs": [],
   "source": [
    "df = df.drop(['belongs_to_collection', 'homepage', 'budget', 'imdb_id', 'poster_path', 'release_date',\n",
    "             'revenue', 'status', 'homepage', 'imdb_id', 'poster_path', 'popularity', 'revenue', 'title', 'video',], axis=1)"
   ]
  },
  {
   "cell_type": "code",
   "execution_count": 9,
   "id": "b1b76d77",
   "metadata": {},
   "outputs": [
    {
     "data": {
      "text/plain": [
       "adult                   0\n",
       "genres                  0\n",
       "id                      0\n",
       "original_language       0\n",
       "original_title          0\n",
       "overview                0\n",
       "production_companies    0\n",
       "production_countries    0\n",
       "runtime                 0\n",
       "spoken_languages        0\n",
       "tagline                 0\n",
       "vote_average            0\n",
       "vote_count              0\n",
       "userId                  0\n",
       "movieId                 0\n",
       "rating                  0\n",
       "timestamp               0\n",
       "dtype: int64"
      ]
     },
     "execution_count": 9,
     "metadata": {},
     "output_type": "execute_result"
    }
   ],
   "source": [
    "df = df.fillna(0)\n",
    "df.isnull().sum()"
   ]
  },
  {
   "cell_type": "markdown",
   "id": "67d74cf2",
   "metadata": {},
   "source": [
    "*Функця препроцессинга*"
   ]
  },
  {
   "cell_type": "code",
   "execution_count": 10,
   "id": "cfa60354",
   "metadata": {},
   "outputs": [],
   "source": [
    "def preprocessing(data, lemmatizer = WordNetLemmatizer(), \n",
    "                  stop_words = stopwords.words('english')):\n",
    "    \n",
    "    \"\"\"\n",
    "    На вход: датафрейм с описанием и названием фильмов,\n",
    "    также пробрасываются стоп-слова и класс для лемматизации текстов\n",
    "    \n",
    "    На выходе: список с предобработанными текстовыми данными\n",
    "    \"\"\"\n",
    "    \n",
    "    texts = data.values.tolist()\n",
    "    new_text = []\n",
    "\n",
    "    for i in tqdm(range(len(texts))):\n",
    "        text = texts[i]\n",
    "        # Lowercase & Drop stopwords and punctuation\n",
    "        punct_free = re.sub('[^a-zA-Z]', ' ', str(text).lower())\n",
    "        punct_free = re.sub(r'\\s+', ' ', punct_free)\n",
    "        stop_free = \" \".join([i for i in punct_free.split() if i not in stop_words])\n",
    "        # stem_text = \" \".join([stemmer.stem(word) for word in stop_free.split(' ')])\n",
    "        \n",
    "        lemma_text = ' '.join([lemmatizer.lemmatize(word) for word in stop_free.split(' ')])\n",
    "        new_text.append(lemma_text)\n",
    "    return new_text"
   ]
  },
  {
   "cell_type": "code",
   "execution_count": 11,
   "id": "5c90e358",
   "metadata": {},
   "outputs": [
    {
     "name": "stderr",
     "output_type": "stream",
     "text": [
      "C:\\Users\\isaev\\AppData\\Local\\Temp/ipykernel_6248/3915145218.py:14: TqdmDeprecationWarning: This function will be removed in tqdm==5.0.0\n",
      "Please use `tqdm.notebook.tqdm` instead of `tqdm.tqdm_notebook`\n",
      "  for i in tqdm(range(len(texts))):\n"
     ]
    },
    {
     "data": {
      "application/vnd.jupyter.widget-view+json": {
       "model_id": "9403802aaa0643bf8366f14269c6d84e",
       "version_major": 2,
       "version_minor": 0
      },
      "text/plain": [
       "  0%|          | 0/45466 [00:00<?, ?it/s]"
      ]
     },
     "metadata": {},
     "output_type": "display_data"
    },
    {
     "data": {
      "application/vnd.jupyter.widget-view+json": {
       "model_id": "c97e4fed43144922ac075a9f7aac36b8",
       "version_major": 2,
       "version_minor": 0
      },
      "text/plain": [
       "  0%|          | 0/45466 [00:00<?, ?it/s]"
      ]
     },
     "metadata": {},
     "output_type": "display_data"
    }
   ],
   "source": [
    "text_overview = preprocessing(df[\"overview\"])\n",
    "text_title = preprocessing(df[\"original_title\"])\n",
    "\n",
    "df[\"overview\"] = text_overview\n",
    "df[\"original_title\"] = text_title \n",
    "\n",
    "# Закидываем предобработанные описания и названия фильмов в общий список\n",
    "text_prepr = text_title + text_overview"
   ]
  },
  {
   "cell_type": "code",
   "execution_count": 12,
   "id": "45e09f6c",
   "metadata": {},
   "outputs": [],
   "source": [
    "text_prepr = [i.split() for i in text_prepr]"
   ]
  },
  {
   "cell_type": "code",
   "execution_count": 13,
   "id": "1bb64e19",
   "metadata": {},
   "outputs": [
    {
     "data": {
      "text/plain": [
       "90932"
      ]
     },
     "execution_count": 13,
     "metadata": {},
     "output_type": "execute_result"
    }
   ],
   "source": [
    "len(text_prepr)"
   ]
  },
  {
   "cell_type": "markdown",
   "id": "d8c1e685",
   "metadata": {},
   "source": [
    "# Word2Vec"
   ]
  },
  {
   "cell_type": "code",
   "execution_count": 21,
   "id": "248ec551",
   "metadata": {},
   "outputs": [],
   "source": [
    "model = Word2Vec(text_prepr, \n",
    "                 window=10, \n",
    "                 min_count=2)"
   ]
  },
  {
   "cell_type": "code",
   "execution_count": 22,
   "id": "333adf61",
   "metadata": {},
   "outputs": [
    {
     "name": "stdout",
     "output_type": "stream",
     "text": [
      "Vocab size = 40606\n"
     ]
    }
   ],
   "source": [
    "# Построим словарь из последовательности предложений\n",
    "\n",
    "model.build_vocab(text_prepr)\n",
    "words = model.wv.index_to_key\n",
    "vocab_size = len(words)\n",
    "\n",
    "print(\"Vocab size =\", vocab_size)"
   ]
  },
  {
   "cell_type": "markdown",
   "id": "1c841839",
   "metadata": {},
   "source": [
    "*Обучим модель W2V для поиска наиболее похожих слов*"
   ]
  },
  {
   "cell_type": "code",
   "execution_count": 18,
   "id": "35ee9236",
   "metadata": {},
   "outputs": [
    {
     "data": {
      "text/plain": [
       "(7225193, 7531220)"
      ]
     },
     "execution_count": 18,
     "metadata": {},
     "output_type": "execute_result"
    }
   ],
   "source": [
    "model.train(text_prepr, total_examples=len(text_prepr), epochs=5)"
   ]
  },
  {
   "cell_type": "code",
   "execution_count": 23,
   "id": "792b7fc6",
   "metadata": {},
   "outputs": [
    {
     "data": {
      "text/plain": [
       "[('anni', 0.8940200209617615),\n",
       " ('attacked', 0.8902016878128052),\n",
       " ('detention', 0.8898559212684631),\n",
       " ('sabbath', 0.8832044005393982),\n",
       " ('homoerotic', 0.8816789388656616),\n",
       " ('nameless', 0.8790510892868042),\n",
       " ('im', 0.8767324090003967),\n",
       " ('pascal', 0.8766116499900818),\n",
       " ('suitor', 0.8761287331581116),\n",
       " ('loose', 0.8735535144805908)]"
      ]
     },
     "execution_count": 23,
     "metadata": {},
     "output_type": "execute_result"
    }
   ],
   "source": [
    "model.wv.most_similar(\"snow\")"
   ]
  },
  {
   "cell_type": "code",
   "execution_count": 24,
   "id": "bba85b0a",
   "metadata": {},
   "outputs": [
    {
     "data": {
      "text/plain": [
       "[('adjust', 0.9382202625274658),\n",
       " ('gregoire', 0.9204652905464172),\n",
       " ('revers', 0.9076642990112305),\n",
       " ('th', 0.899091899394989),\n",
       " ('echo', 0.8975561261177063),\n",
       " ('avaricious', 0.8943937420845032),\n",
       " ('bronx', 0.8850521445274353),\n",
       " ('angelov', 0.8840415477752686),\n",
       " ('lise', 0.8826701045036316),\n",
       " ('toth', 0.8815551400184631)]"
      ]
     },
     "execution_count": 24,
     "metadata": {},
     "output_type": "execute_result"
    }
   ],
   "source": [
    "model.wv.most_similar(\"power\")"
   ]
  },
  {
   "cell_type": "code",
   "execution_count": 26,
   "id": "0d91bc5e",
   "metadata": {},
   "outputs": [
    {
     "data": {
      "text/plain": [
       "[('iv', 0.8626662492752075),\n",
       " ('buzzy', 0.8585712313652039),\n",
       " ('chase', 0.8202930092811584),\n",
       " ('kronos', 0.8173089027404785),\n",
       " ('selena', 0.8148725628852844),\n",
       " ('goodnight', 0.8120730519294739),\n",
       " ('oz', 0.8115226626396179),\n",
       " ('shalu', 0.8091319799423218),\n",
       " ('foote', 0.8062674403190613),\n",
       " ('gulliver', 0.8041901588439941)]"
      ]
     },
     "execution_count": 26,
     "metadata": {},
     "output_type": "execute_result"
    }
   ],
   "source": [
    "model.wv.most_similar(\"woman\")"
   ]
  },
  {
   "cell_type": "markdown",
   "id": "eb921dc6",
   "metadata": {},
   "source": [
    "## Tockenizer & embeding"
   ]
  },
  {
   "cell_type": "code",
   "execution_count": 27,
   "id": "f86bd7c8",
   "metadata": {},
   "outputs": [],
   "source": [
    "tokenizer = Tokenizer()"
   ]
  },
  {
   "cell_type": "code",
   "execution_count": 28,
   "id": "30cdcbaf",
   "metadata": {},
   "outputs": [
    {
     "name": "stdout",
     "output_type": "stream",
     "text": [
      "Total words: 71878\n"
     ]
    }
   ],
   "source": [
    "# Обновляем внутренний словарь на основе списка текстов.\n",
    "tokenizer.fit_on_texts(text_prepr)\n",
    "vocab_size = len(tokenizer.word_index) + 1\n",
    "\n",
    "print(\"Total words:\", vocab_size)"
   ]
  },
  {
   "cell_type": "code",
   "execution_count": null,
   "id": "3052eff8",
   "metadata": {},
   "outputs": [],
   "source": []
  },
  {
   "cell_type": "markdown",
   "id": "d3e7aa6b",
   "metadata": {},
   "source": [
    "*Создание матрицы эмбедингов*"
   ]
  },
  {
   "cell_type": "markdown",
   "id": "83b073f5",
   "metadata": {},
   "source": [
    "*Преобразуем каждый текст в текстах в последовательность целых чисел. \n",
    "texts_to_sequences берет каждое слово в тексте и заменяет его соответствующим целочисленным значением из словаря word_index.*\n",
    "\n",
    "*pad_sequences используется для обеспечения того, чтобы все последовательности в списке имели одинаковую длину.*\n",
    "\n"
   ]
  },
  {
   "cell_type": "code",
   "execution_count": 39,
   "id": "da086aeb",
   "metadata": {},
   "outputs": [],
   "source": [
    "data = pad_sequences(tokenizer.texts_to_sequences(text_prepr), maxlen=100)"
   ]
  },
  {
   "cell_type": "code",
   "execution_count": 43,
   "id": "5d73d5f4",
   "metadata": {},
   "outputs": [
    {
     "data": {
      "text/plain": [
       "(90932, 100)"
      ]
     },
     "execution_count": 43,
     "metadata": {},
     "output_type": "execute_result"
    }
   ],
   "source": [
    "data.shape"
   ]
  },
  {
   "cell_type": "markdown",
   "id": "0ff009ed",
   "metadata": {},
   "source": [
    "*Функция построения матрицы эмбедингов*"
   ]
  },
  {
   "cell_type": "code",
   "execution_count": 45,
   "id": "2b6cadac",
   "metadata": {},
   "outputs": [],
   "source": [
    "def embedding_matrix(tock, model):\n",
    "    \n",
    "    \"\"\"\n",
    "    На вход: словарь tokenizer.word_index \n",
    "    модель word2vec\n",
    "    \n",
    "    На выходе: матрица эмбедингов текста\n",
    "    \"\"\"\n",
    "    \n",
    "    embedding_matrix = np.zeros((vocab_size, 100))\n",
    "\n",
    "    for word, i in tock.items():\n",
    "        if word in model:\n",
    "            embedding_matrix[i] = model[word]\n",
    "    return embedding_matrix"
   ]
  },
  {
   "cell_type": "code",
   "execution_count": 46,
   "id": "055d983e",
   "metadata": {},
   "outputs": [],
   "source": [
    "embedding_matrix = embedding_matrix(tokenizer.word_index, model.wv)"
   ]
  },
  {
   "cell_type": "code",
   "execution_count": 47,
   "id": "40737282",
   "metadata": {},
   "outputs": [
    {
     "data": {
      "text/plain": [
       "(71878, 100)"
      ]
     },
     "execution_count": 47,
     "metadata": {},
     "output_type": "execute_result"
    }
   ],
   "source": [
    "embedding_matrix.shape"
   ]
  }
 ],
 "metadata": {
  "kernelspec": {
   "display_name": "Python 3 (ipykernel)",
   "language": "python",
   "name": "python3"
  },
  "language_info": {
   "codemirror_mode": {
    "name": "ipython",
    "version": 3
   },
   "file_extension": ".py",
   "mimetype": "text/x-python",
   "name": "python",
   "nbconvert_exporter": "python",
   "pygments_lexer": "ipython3",
   "version": "3.9.5"
  }
 },
 "nbformat": 4,
 "nbformat_minor": 5
}
